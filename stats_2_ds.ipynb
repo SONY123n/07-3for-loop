{
  "nbformat": 4,
  "nbformat_minor": 0,
  "metadata": {
    "colab": {
      "provenance": [],
      "authorship_tag": "ABX9TyMr4wUyNMS269ZCctYf7yjI",
      "include_colab_link": true
    },
    "kernelspec": {
      "name": "python3",
      "display_name": "Python 3"
    },
    "language_info": {
      "name": "python"
    }
  },
  "cells": [
    {
      "cell_type": "markdown",
      "metadata": {
        "id": "view-in-github",
        "colab_type": "text"
      },
      "source": [
        "<a href=\"https://colab.research.google.com/github/SONY123n/07-3for-loop/blob/main/stats_2_ds.ipynb\" target=\"_parent\"><img src=\"https://colab.research.google.com/assets/colab-badge.svg\" alt=\"Open In Colab\"/></a>"
      ]
    },
    {
      "cell_type": "code",
      "execution_count": null,
      "metadata": {
        "id": "6EJ9rcC-AkOT"
      },
      "outputs": [],
      "source": [
        "#. What are the three measures of central tendency?\n",
        "#mean,median,mode\n"
      ]
    },
    {
      "cell_type": "markdown",
      "source": [
        " What is the difference between the mean, median, and mode? How are they used to measure the\n",
        "central tendency of a dataset\n"
      ],
      "metadata": {
        "id": "ADaU8jAcA0OO"
      }
    },
    {
      "cell_type": "code",
      "source": [
        "#mean: the average of the all values in a dataset\n",
        "#mean is used to give the general idea of the typical value when data is normally distributed\n",
        "#median : The middle value in a dataset when it's sorted.\n",
        "#median is used when the outliers are present in the data ,bcz it is less effected by the outliers compare with mean and mode\n",
        "#mode :the value that appears most frequently in a dataset.\n",
        "#mode is used for categorical data or to identitfy the most common value"
      ],
      "metadata": {
        "id": "3AfptBZ-Axyn"
      },
      "execution_count": null,
      "outputs": []
    },
    {
      "cell_type": "markdown",
      "source": [
        ". Measure the three measures of central tendency for the given height data:\n",
        " [178,177,176,177,178.2,178,175,179,180,175,178.9,176.2,177,172.5,178,176.5]"
      ],
      "metadata": {
        "id": "_bFncpWuBz_l"
      }
    },
    {
      "cell_type": "code",
      "source": [
        "l= [178,177,176,177,178.2,178,175,179,180,175,178.9,176.2,177,172.5,178,176.5]\n"
      ],
      "metadata": {
        "id": "WyfWScLZB56I"
      },
      "execution_count": null,
      "outputs": []
    },
    {
      "cell_type": "code",
      "source": [
        "import numpy as np\n",
        "np.mean(l)"
      ],
      "metadata": {
        "colab": {
          "base_uri": "https://localhost:8080/"
        },
        "id": "ynHJA7JXB_h3",
        "outputId": "51c12733-e5a3-4ead-99d6-5fcaccce268a"
      },
      "execution_count": null,
      "outputs": [
        {
          "output_type": "execute_result",
          "data": {
            "text/plain": [
              "177.01875"
            ]
          },
          "metadata": {},
          "execution_count": 2
        }
      ]
    },
    {
      "cell_type": "code",
      "source": [
        "np.median(l)"
      ],
      "metadata": {
        "colab": {
          "base_uri": "https://localhost:8080/"
        },
        "id": "OUXAmYxECCJS",
        "outputId": "076e5d1b-a57f-40ce-9d16-6c9d05a257f9"
      },
      "execution_count": null,
      "outputs": [
        {
          "output_type": "execute_result",
          "data": {
            "text/plain": [
              "177.0"
            ]
          },
          "metadata": {},
          "execution_count": 3
        }
      ]
    },
    {
      "cell_type": "code",
      "source": [
        "import statistics\n",
        "statistics.mode(l)"
      ],
      "metadata": {
        "colab": {
          "base_uri": "https://localhost:8080/"
        },
        "id": "0tO2QjZNCFjw",
        "outputId": "a826213a-929f-43b2-d22a-d6760115b5c8"
      },
      "execution_count": null,
      "outputs": [
        {
          "output_type": "execute_result",
          "data": {
            "text/plain": [
              "178"
            ]
          },
          "metadata": {},
          "execution_count": 4
        }
      ]
    },
    {
      "cell_type": "markdown",
      "source": [
        " Q4. Find the standard deviation for the given data:\n",
        " [178,177,176,177,178.2,178,175,179,180,175,178.9,176.2,177,172.5,178,176.5]"
      ],
      "metadata": {
        "id": "7ditjiN5CM9s"
      }
    },
    {
      "cell_type": "code",
      "source": [
        "l1= [178,177,176,177,178.2,178,175,179,180,175,178.9,176.2,177,172.5,178,176.5]"
      ],
      "metadata": {
        "id": "8SbPURrWCLVz"
      },
      "execution_count": null,
      "outputs": []
    },
    {
      "cell_type": "code",
      "source": [
        "np.std(l1)"
      ],
      "metadata": {
        "colab": {
          "base_uri": "https://localhost:8080/"
        },
        "id": "0FfXXU4iCUlB",
        "outputId": "5da0773f-f255-4251-d42f-955edd29e1e5"
      },
      "execution_count": null,
      "outputs": [
        {
          "output_type": "execute_result",
          "data": {
            "text/plain": [
              "1.7885814036548633"
            ]
          },
          "metadata": {},
          "execution_count": 6
        }
      ]
    },
    {
      "cell_type": "markdown",
      "source": [
        " How are measures of dispersion such as range, variance, and standard deviation used to describe\n",
        "the spread of a dataset? Provide an example"
      ],
      "metadata": {
        "id": "a1yKeKaPCZPh"
      }
    },
    {
      "cell_type": "code",
      "source": [
        "#Measures of Dispersion\n",
        "#Range: The range is the simplest measure of dispersion, calculated as the difference between the maximum and minimum values in a dataset. It provides a basic understanding of the spread but is sensitive to outliers.\n",
        "#Variance: Variance quantifies the average squared deviation of each data point from the mean. A higher variance indicates greater data spread.\n",
        "#Standard Deviation: The standard deviation is the square root of the variance. It's a more interpretable measure of dispersion since it's in the same units as the original data. A higher standard deviation indicates greater data spread."
      ],
      "metadata": {
        "id": "3km1cHOpCXWi"
      },
      "execution_count": null,
      "outputs": []
    },
    {
      "cell_type": "code",
      "source": [
        "import numpy as np\n",
        "a = [70, 75, 80, 85, 90]\n",
        "b = [60, 70, 80, 90, 100]\n",
        "variance_a = np.var(a)\n",
        "std_b = np.std(b)\n",
        "print('variance', variance_a)\n",
        "print('standard deviation',std_b)"
      ],
      "metadata": {
        "colab": {
          "base_uri": "https://localhost:8080/"
        },
        "id": "5dswzIw2CuQO",
        "outputId": "bfa04762-a8df-4606-9508-34f5ebcef068"
      },
      "execution_count": null,
      "outputs": [
        {
          "output_type": "stream",
          "name": "stdout",
          "text": [
            "variance 50.0\n",
            "standard deviation 14.142135623730951\n"
          ]
        }
      ]
    },
    {
      "cell_type": "markdown",
      "source": [
        "What is a Venn diagram?"
      ],
      "metadata": {
        "id": "903x7SRdDpUf"
      }
    },
    {
      "cell_type": "code",
      "source": [
        "\n",
        "#A Venn diagram is a visual representation used to show the relationships between different sets of data. It uses overlapping circles to illustrate the commonalities and differences between the sets."
      ],
      "metadata": {
        "id": "QlUFocedDYjM"
      },
      "execution_count": null,
      "outputs": []
    },
    {
      "cell_type": "markdown",
      "source": [
        ". For the two given sets A = (2,3,4,5,6,7) & B = (0,2,6,8,10). Find:\n",
        " (i) \tA n B\n",
        " (ii)\tA ⋃ B\n"
      ],
      "metadata": {
        "id": "dqBvNlmUDq7L"
      }
    },
    {
      "cell_type": "code",
      "source": [
        "A = {2, 3, 4, 5, 6, 7}\n",
        "B = {0, 2, 6, 8, 10}\n",
        "\n",
        "# Intersection\n",
        "intersection = A.intersection(B)\n",
        "print(\"Intersection (A ∩ B):\", intersection)\n",
        "\n",
        "# Union\n",
        "union = A.union(B)\n",
        "print(\"Union (A ∪ B):\", union)"
      ],
      "metadata": {
        "colab": {
          "base_uri": "https://localhost:8080/"
        },
        "id": "6HHeztqKDmbr",
        "outputId": "714fc3e7-63f2-466a-e201-c5a15471394c"
      },
      "execution_count": null,
      "outputs": [
        {
          "output_type": "stream",
          "name": "stdout",
          "text": [
            "Intersection (A ∩ B): {2, 6}\n",
            "Union (A ∪ B): {0, 2, 3, 4, 5, 6, 7, 8, 10}\n"
          ]
        }
      ]
    },
    {
      "cell_type": "markdown",
      "source": [
        ". What do you understand about skewness in data?"
      ],
      "metadata": {
        "id": "2WPiY-KaEEX_"
      }
    },
    {
      "cell_type": "code",
      "source": [
        "#Skewness is a statistical measure that describes the asymmetry of the probability distribution of a real-valued random variable about its mean. In simpler terms, it tells us about the shape of the distribution of our data.\n",
        "#for symmetric distribution the skewness is zero\n",
        "#right skewness - the tail on the right side of the distribution is longer\n",
        "#lest skewness- the tail on the left side of the distribution is longer"
      ],
      "metadata": {
        "id": "ig7yr349D_6L"
      },
      "execution_count": null,
      "outputs": []
    },
    {
      "cell_type": "markdown",
      "source": [
        " If a data is right skewed then what will be the position of median with respect to mean?"
      ],
      "metadata": {
        "id": "Q_3S8B2hErZj"
      }
    },
    {
      "cell_type": "code",
      "source": [
        "#for  a right-skewed dataset, the median will be positioned to the left of the mean.\n",
        "#Mean > Median"
      ],
      "metadata": {
        "id": "po91GMOfEpmi"
      },
      "execution_count": null,
      "outputs": []
    },
    {
      "cell_type": "markdown",
      "source": [
        ". Explain the difference between covariance and correlation. How are these measures used in\n",
        "statistical analysis?"
      ],
      "metadata": {
        "id": "Wzfj2ZNLE9mj"
      }
    },
    {
      "cell_type": "code",
      "source": [
        "#Covariance measures how two variables change together. It indicates the direction of the linear relationship between variables.\n",
        "#A positive covariance indicates that the variables tend to increase or decrease together.\n",
        "#A negative covariance indicates that one variable tends to increase when the other decreases, and vice versa.\n",
        "#A covariance of 0 indicates no linear relationship.\n",
        "#Correlation is a standardized measure of the linear relationship between two variables. It measures both the strength and direction of the relationship.\n",
        "#Correlation values range from -1 to +1.\n",
        "#+1 indicates a perfect positive linear relationship.\n",
        "#-1 indicates a perfect negative linear relationship\n",
        "#0 indicates no linear relationship.\n"
      ],
      "metadata": {
        "id": "A9jDIsR_FCix"
      },
      "execution_count": null,
      "outputs": []
    },
    {
      "cell_type": "markdown",
      "source": [
        " What is the formula for calculating the sample mean? Provide an example calculation for a\n",
        "dataset."
      ],
      "metadata": {
        "id": "tl0hm0H7FtxE"
      }
    },
    {
      "cell_type": "code",
      "source": [
        "#x̄ = (Σxi) / n\n",
        "heights = [160, 165, 170, 175, 180]\n",
        "mean = np.mean(heights)\n",
        "print(mean)"
      ],
      "metadata": {
        "colab": {
          "base_uri": "https://localhost:8080/"
        },
        "id": "7LE_XoplFpHh",
        "outputId": "fa295c0e-16e2-428d-9801-1c26ed298c62"
      },
      "execution_count": 15,
      "outputs": [
        {
          "output_type": "stream",
          "name": "stdout",
          "text": [
            "170.0\n"
          ]
        }
      ]
    },
    {
      "cell_type": "markdown",
      "source": [
        "For a normal distribution data what is the relationship between its measure of central tendency?"
      ],
      "metadata": {
        "id": "u1M0MlqKSDKd"
      }
    },
    {
      "cell_type": "code",
      "source": [
        "#In a normal distribution, the mean, median, and mode are all equal.\n",
        "#A normal distribution is a symmetrical, bell-shaped distribution of data.\n",
        "#Because of its symmetry, the data is evenly distributed around the center.\n",
        "# The mean, median, and mode all represent the center of a dataset.\n"
      ],
      "metadata": {
        "id": "jY00vDnTGEcf"
      },
      "execution_count": null,
      "outputs": []
    },
    {
      "cell_type": "markdown",
      "source": [
        " How is covariance different from correlation"
      ],
      "metadata": {
        "id": "7uiRZJ01SceX"
      }
    },
    {
      "cell_type": "code",
      "source": [
        "#Covariance is often used as an intermediate step in calculating other statistics, such as correlation and regression coefficients.\n",
        "#Correlation is used to understand the strength and direction of the linear relationship between two variables. It is also used to identify potential relationships between variables and to make predictions about one variable"
      ],
      "metadata": {
        "id": "tCIu0LHOShJ0"
      },
      "execution_count": 16,
      "outputs": []
    },
    {
      "cell_type": "markdown",
      "source": [
        " How do outliers affect measures of central tendency and dispersion? Provide an example."
      ],
      "metadata": {
        "id": "A9wFI46lSwt1"
      }
    },
    {
      "cell_type": "code",
      "source": [
        "#outliers pull the mean towards them and inflate measures of dispersion, while the median remains relatively stable.\n",
        "#for central tendency :\n",
        "#mean-more effected by the outliers\n",
        "#median -less effected by the outliers\n",
        "#mode-generally not effected by the outlliers\n",
        "#for dispersion:\n",
        "#range-significantly effected by outliers\n",
        "#variance - significantly effected by outliers\n",
        "#standard deviation - significantly effected by outliers"
      ],
      "metadata": {
        "id": "DHQyZl6jSvfW"
      },
      "execution_count": 17,
      "outputs": []
    },
    {
      "cell_type": "code",
      "source": [],
      "metadata": {
        "id": "Qn4F4zvyTqC_"
      },
      "execution_count": null,
      "outputs": []
    }
  ]
}