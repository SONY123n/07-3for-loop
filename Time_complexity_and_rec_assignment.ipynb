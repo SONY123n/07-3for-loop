{
  "cells": [
    {
      "cell_type": "markdown",
      "metadata": {
        "id": "view-in-github",
        "colab_type": "text"
      },
      "source": [
        "<a href=\"https://colab.research.google.com/github/SONY123n/07-3for-loop/blob/main/Time_complexity_and_rec_assignment.ipynb\" target=\"_parent\"><img src=\"https://colab.research.google.com/assets/colab-badge.svg\" alt=\"Open In Colab\"/></a>"
      ]
    },
    {
      "cell_type": "markdown",
      "metadata": {
        "id": "j8spsg3g4CCr"
      },
      "source": [
        "Write a recursive function to calculate the sum of digits of a given positive integer.\n",
        "\n",
        "\n",
        "sum_of_digits(123) -> 6"
      ]
    },
    {
      "cell_type": "code",
      "execution_count": null,
      "metadata": {
        "colab": {
          "base_uri": "https://localhost:8080/"
        },
        "id": "XPEvDOgf4o_h",
        "outputId": "0cf3845d-1526-483f-fea3-31db4b944150"
      },
      "outputs": [
        {
          "name": "stdout",
          "output_type": "stream",
          "text": [
            "6\n"
          ]
        }
      ],
      "source": [
        "def sum_of_digits(n):\n",
        "  sum=0\n",
        "  while n>0:\n",
        "    digits=n%10\n",
        "    sum+=digits\n",
        "    n=n//10\n",
        "  return sum\n",
        "n=123\n",
        "print(sum_of_digits(n))"
      ]
    },
    {
      "cell_type": "code",
      "execution_count": null,
      "metadata": {
        "colab": {
          "base_uri": "https://localhost:8080/"
        },
        "id": "t-FAhScqzlWp",
        "outputId": "2e13b2c0-7ca0-4257-cfea-bc895d187e70"
      },
      "outputs": [
        {
          "name": "stdout",
          "output_type": "stream",
          "text": [
            "6\n"
          ]
        }
      ],
      "source": [
        "def sum_digits(n):\n",
        "  sum=0\n",
        "  for i in n:\n",
        "    sum+=int(i)\n",
        "  return sum\n",
        "n=123\n",
        "print(sum_digits(str(n)))"
      ]
    },
    {
      "cell_type": "markdown",
      "metadata": {
        "id": "NM1UE6075g4N"
      },
      "source": [
        "Write a recursive function to generate the first n numbers of the Fibonacci series.\n",
        "\n",
        "\n",
        "fibonacci_series(6) -> [0, 1, 1, 2, 3, 5]"
      ]
    },
    {
      "cell_type": "code",
      "execution_count": 30,
      "metadata": {
        "colab": {
          "base_uri": "https://localhost:8080/"
        },
        "id": "31gr1Jww5U8M",
        "outputId": "cbfcc071-ad27-4cfc-d3d8-1c03e836499d"
      },
      "outputs": [
        {
          "output_type": "stream",
          "name": "stdout",
          "text": [
            "0 1 1 2 3 5 8 "
          ]
        }
      ],
      "source": [
        "def fibonacci(n):\n",
        "  if n<=1:\n",
        "    return n\n",
        "  return fibonacci(n-1)+fibonacci(n-2)\n",
        "n=6\n",
        "for i in range(0,n+1):\n",
        "  print(fibonacci(i),end=\" \")"
      ]
    },
    {
      "cell_type": "markdown",
      "metadata": {
        "id": "YoV5fkdK6Zfs"
      },
      "source": [
        "Given a set of positive integers and a target sum, write a recursive function to determine if there exists a subset\n",
        "of the integers that adds up to the target sum.\n",
        "\n",
        "\n",
        "subset_sum([3, 34, 4, 12, 5, 2], 9) -> True"
      ]
    },
    {
      "cell_type": "code",
      "execution_count": null,
      "metadata": {
        "colab": {
          "base_uri": "https://localhost:8080/"
        },
        "id": "GdIaCifs6KMU",
        "outputId": "0590751b-c5c4-42d1-d31c-b74df3fa9117"
      },
      "outputs": [
        {
          "name": "stdout",
          "output_type": "stream",
          "text": [
            "True\n"
          ]
        }
      ],
      "source": [
        "def subset_sum(arr,target):\n",
        "  for i in range(len(arr)):\n",
        "    for j in range(i+1,len(arr)):\n",
        "      if arr[i]+arr[j]==target:\n",
        "        return True\n",
        "  return False\n",
        "arr=[3,34,4,12,5,2]\n",
        "target=9\n",
        "print(subset_sum(arr,target))"
      ]
    },
    {
      "cell_type": "markdown",
      "metadata": {
        "id": "KZbWysQ26wu2"
      },
      "source": [
        "Given a non-empty string and a dictionary of words, write a recursive function to determine if the string can be\n",
        "segmented into a space-separated sequence of dictionary words.\n",
        "\n",
        "\n",
        "word_break( leetcode , [ leet , code ]) -> True"
      ]
    },
    {
      "cell_type": "code",
      "execution_count": 38,
      "metadata": {
        "id": "te0nR_F26oHY"
      },
      "outputs": [],
      "source": [
        "def word_break(wordlist,word):\n",
        "  if word==\"\":#base condition\n",
        "    return True\n",
        "  else:\n",
        "    wordLen=len(word)\n",
        "    for i in range(1,wordLen+1):\n",
        "      if word[:i] in wordlist and word_break(wordlist,word[i:]):\n",
        "        return True\n",
        "  return False"
      ]
    },
    {
      "cell_type": "code",
      "source": [
        "print(word_break([\"leet\",\"code\"],\"leetcode\"))\n",
        "print(word_break([\"apple\",\"pen\"],\"applepen\"))\n",
        "print(word_break([\"cats\",\"dog\",\"sand\",\"and\",\"cat\"],\"catsandog\"))"
      ],
      "metadata": {
        "colab": {
          "base_uri": "https://localhost:8080/"
        },
        "id": "uUoeLt2nxp0L",
        "outputId": "fdabdaee-7be7-44f4-ae9f-9ea823cb747d"
      },
      "execution_count": 42,
      "outputs": [
        {
          "output_type": "stream",
          "name": "stdout",
          "text": [
            "True\n",
            "True\n",
            "False\n"
          ]
        }
      ]
    },
    {
      "cell_type": "markdown",
      "metadata": {
        "id": "0P4PvOZp7sbK"
      },
      "source": [
        "Implement a recursive function to solve the N Queens problem, where you have to place N queens on an N×N\n",
        "chessboard in such a way that no two queens threaten each other"
      ]
    },
    {
      "cell_type": "code",
      "source": [
        "#return true if it's safe to place queen on the board\n",
        "def issafetoplaceQueen(board,row,col):\n",
        "  #check in the left side\n",
        "  for i in range(col):\n",
        "    if board[row][i]==1:\n",
        "      return False\n",
        "    #check in the upper left diagonal\n",
        "  for i,j in zip(range(row,-1,-1),range(col,-1,-1)):\n",
        "    if board[i][j]==1:\n",
        "      return False\n",
        "    #check in the lower left diagonal\n",
        "  for i,j in zip(range(row,n,1),range(col,-1,-1)):\n",
        "    if board[i][j]==1:\n",
        "      return False\n",
        "  return True\n",
        "\n",
        "def solveNQ(board,n):\n",
        "  if not solveNQutil(board,0,n): # Added n as an argument\n",
        "    print(\"solution doesn't exsit\")\n",
        "    return\n",
        "  printBoard(board,n)\n",
        "#sholud return true if we are able to place all the queens\n",
        "def solveNQutil(board,col,n):\n",
        "  if col>=n:#base condition\n",
        "    return True#means we are able to put queens in all the columns\n",
        "  for row in range(n):#check the row\n",
        "    if issafetoplaceQueen(board,row,col): # Removed the extra argument n\n",
        "      board[row][col]=1\n",
        "      if solveNQutil(board,col+1,n):\n",
        "        return True\n",
        "      board[row][col]=0#back tracking\n",
        "\n",
        "  return False#won't be able to place the queen\n",
        "\n",
        "def printBoard(board,n):\n",
        "  for i in range(n):\n",
        "    for j in range(n):\n",
        "      if board[i][j]==1:\n",
        "        print(\"Q\",end=\" \")\n",
        "      else:\n",
        "        print(\".\",end=\" \")\n",
        "    print()"
      ],
      "metadata": {
        "id": "YG5oTGmSutAS"
      },
      "execution_count": 27,
      "outputs": []
    },
    {
      "cell_type": "code",
      "source": [
        "board=[[0,0,0,0],\n",
        "       [0,0,0,0],\n",
        "       [0,0,0,0],\n",
        "       [0,0,0,0]\n",
        "      ]\n",
        "solveNQ(board,4)"
      ],
      "metadata": {
        "colab": {
          "base_uri": "https://localhost:8080/"
        },
        "id": "0epzHJObrtBR",
        "outputId": "bd5e8cc6-6c32-46c5-e84b-1f567912d3b3"
      },
      "execution_count": 28,
      "outputs": [
        {
          "output_type": "stream",
          "name": "stdout",
          "text": [
            ". . Q . \n",
            "Q . . . \n",
            ". . . Q \n",
            ". Q . . \n"
          ]
        }
      ]
    },
    {
      "cell_type": "code",
      "source": [
        "a=[\"sony\",\"naresh\",\"hello\"]\n",
        "b=[1,2,3]\n",
        "res=zip(a,b)\n",
        "print(list(res))\n"
      ],
      "metadata": {
        "colab": {
          "base_uri": "https://localhost:8080/"
        },
        "id": "Ee0tsIYVKmPB",
        "outputId": "e6591f4d-fcea-4c0e-87fe-be6d772ffa83"
      },
      "execution_count": 17,
      "outputs": [
        {
          "output_type": "stream",
          "name": "stdout",
          "text": [
            "[('sony', 1), ('naresh', 2), ('hello', 3)]\n"
          ]
        }
      ]
    },
    {
      "cell_type": "code",
      "execution_count": null,
      "metadata": {
        "colab": {
          "base_uri": "https://localhost:8080/"
        },
        "id": "ixLp7zX38H7K",
        "outputId": "5f7f77a4-0625-41aa-bdab-642a3caf1a10"
      },
      "outputs": [
        {
          "name": "stdout",
          "output_type": "stream",
          "text": [
            "[1, 2, 3, 4, 5]\n"
          ]
        }
      ],
      "source": [
        "  def quicksort(arr):\n",
        "\n",
        "    if len(arr) <= 1:\n",
        "\n",
        "        return arr\n",
        "\n",
        "    pivot = arr[len(arr) // 2]\n",
        "\n",
        "    left = [x for x in arr if x < pivot]\n",
        "\n",
        "    middle = [x for x in arr if x == pivot]\n",
        "\n",
        "    right = [x for x in arr if x > pivot]\n",
        "\n",
        "    return quicksort(left) + middle + quicksort(right)\n",
        "arr=[5,3,4,2,1]\n",
        "print(quicksort(arr))"
      ]
    },
    {
      "cell_type": "code",
      "execution_count": null,
      "metadata": {
        "colab": {
          "background_save": true
        },
        "id": "xDRzVo5nxO1I"
      },
      "outputs": [],
      "source": [
        "time complexity of the above code is O(n^2)"
      ]
    },
    {
      "cell_type": "code",
      "execution_count": null,
      "metadata": {
        "colab": {
          "base_uri": "https://localhost:8080/"
        },
        "id": "v7t7pgApxnRI",
        "outputId": "0cad6f20-1590-46b1-fcf7-a6db6a276f85"
      },
      "outputs": [
        {
          "name": "stdout",
          "output_type": "stream",
          "text": [
            "8\n"
          ]
        }
      ],
      "source": [
        "  def nested_loop_example(matrix):\n",
        "\n",
        "    rows, cols = len(matrix), len(matrix[0])\n",
        "\n",
        "    total = 0\n",
        "\n",
        "    for i in range(rows):\n",
        "\n",
        "        for j in range(cols):\n",
        "\n",
        "            total += matrix[i][j]\n",
        "\n",
        "    return total\n",
        "martix=[[1,2,3],[1,0,1]]\n",
        "print(nested_loop_example(martix))"
      ]
    },
    {
      "cell_type": "code",
      "execution_count": null,
      "metadata": {
        "id": "ktiwYXwJx4l7"
      },
      "outputs": [],
      "source": [
        "time complexity of above code is O(n^2)"
      ]
    },
    {
      "cell_type": "code",
      "execution_count": null,
      "metadata": {
        "colab": {
          "base_uri": "https://localhost:8080/"
        },
        "id": "1QyYLFq7yFin",
        "outputId": "ec77028c-e6e5-4b6f-8122-c24e530dc4c7"
      },
      "outputs": [
        {
          "name": "stdout",
          "output_type": "stream",
          "text": [
            "15\n"
          ]
        }
      ],
      "source": [
        "  def example_function(arr):\n",
        "\n",
        "    result = 0\n",
        "\n",
        "    for element in arr:\n",
        "\n",
        "        result += element\n",
        "\n",
        "    return result\n",
        "arr=[1,2,3,4,5]\n",
        "print(example_function(arr))"
      ]
    },
    {
      "cell_type": "code",
      "execution_count": null,
      "metadata": {
        "id": "OZuH-IOEyPw1"
      },
      "outputs": [],
      "source": [
        "time complexity of the above code is O(n)"
      ]
    },
    {
      "cell_type": "code",
      "execution_count": null,
      "metadata": {
        "colab": {
          "base_uri": "https://localhost:8080/"
        },
        "id": "vLhHdk4ayWnF",
        "outputId": "9bbae8ae-76ed-4d6b-9a1a-cf888e1c0b2b"
      },
      "outputs": [
        {
          "name": "stdout",
          "output_type": "stream",
          "text": [
            "5\n"
          ]
        }
      ],
      "source": [
        "  def longest_increasing_subsequence(nums):\n",
        "    n = len(nums)\n",
        "\n",
        "    lis = [1] * n\n",
        "\n",
        "    for i in range(1, n):\n",
        "\n",
        "        for j in range(0, i):\n",
        "\n",
        "            if nums[i] > nums[j] and lis[i] < lis[j] + 1:\n",
        "\n",
        "                lis[i] = lis[j] + 1\n",
        "    return max(lis)\n",
        "\n",
        "nums=[21,34,65,87,89,54,13]\n",
        "print(longest_increasing_subsequence(nums))"
      ]
    },
    {
      "cell_type": "code",
      "execution_count": null,
      "metadata": {
        "id": "e1kJiVUoyotV"
      },
      "outputs": [],
      "source": [
        "time complexity of the above code is O(n^2)\n"
      ]
    },
    {
      "cell_type": "code",
      "execution_count": null,
      "metadata": {
        "colab": {
          "base_uri": "https://localhost:8080/"
        },
        "id": "VTAmxaDWy9Sk",
        "outputId": "b5ab1384-501d-4608-d52e-584e605322fb"
      },
      "outputs": [
        {
          "name": "stdout",
          "output_type": "stream",
          "text": [
            "140\n"
          ]
        }
      ],
      "source": [
        "def mysterious_function(arr):\n",
        "\n",
        "    n = len(arr)\n",
        "\n",
        "    result = 0\n",
        "\n",
        "    for i in range(n):\n",
        "\n",
        "        for j in range(i, n):\n",
        "\n",
        "            result += arr[i] * arr[j]\n",
        "\n",
        "    return result\n",
        "arr=[1,2,3,4,5]\n",
        "print(mysterious_function(arr))"
      ]
    },
    {
      "cell_type": "code",
      "execution_count": null,
      "metadata": {
        "id": "2gV1YarNzHKj"
      },
      "outputs": [],
      "source": [
        "time complexity of the above code is O(n^2)"
      ]
    },
    {
      "cell_type": "code",
      "execution_count": null,
      "metadata": {
        "id": "K9CCMxQKzQHK"
      },
      "outputs": [],
      "source": []
    }
  ],
  "metadata": {
    "colab": {
      "provenance": [],
      "authorship_tag": "ABX9TyPlz5JsAc052465NCOlnuY7",
      "include_colab_link": true
    },
    "kernelspec": {
      "display_name": "Python 3",
      "name": "python3"
    },
    "language_info": {
      "name": "python"
    }
  },
  "nbformat": 4,
  "nbformat_minor": 0
}