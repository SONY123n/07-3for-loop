{
  "nbformat": 4,
  "nbformat_minor": 0,
  "metadata": {
    "colab": {
      "provenance": [],
      "authorship_tag": "ABX9TyNqcNKHLDnX6KwAHwjYgKGW",
      "include_colab_link": true
    },
    "kernelspec": {
      "name": "python3",
      "display_name": "Python 3"
    },
    "language_info": {
      "name": "python"
    }
  },
  "cells": [
    {
      "cell_type": "markdown",
      "metadata": {
        "id": "view-in-github",
        "colab_type": "text"
      },
      "source": [
        "<a href=\"https://colab.research.google.com/github/SONY123n/07-3for-loop/blob/main/OPPs_ds_task.ipynb\" target=\"_parent\"><img src=\"https://colab.research.google.com/assets/colab-badge.svg\" alt=\"Open In Colab\"/></a>"
      ]
    },
    {
      "cell_type": "markdown",
      "source": [
        " Create a vehicle class with an init method having instance variables as name_of_vehicle, max_speed\n",
        "and average_of_vehicle."
      ],
      "metadata": {
        "id": "BpT6OKQDoN_F"
      }
    },
    {
      "cell_type": "code",
      "source": [
        "class vechile :\n",
        "  def __init__(self,name_of_vehicle,max_speed,average_of_vehicle):\n",
        "    self.name_of_vehicle=name_of_vehicle\n",
        "    self.max_speed=max_speed\n",
        "    self.average_of_vehicle=average_of_vehicle\n",
        "  def display(self):\n",
        "    print(self.name_of_vehicle,self.max_speed,self.average_of_vehicle)\n",
        "v=vechile(\"car\",200,100)\n",
        "v.display()"
      ],
      "metadata": {
        "colab": {
          "base_uri": "https://localhost:8080/"
        },
        "id": "3iyffL7MpK3c",
        "outputId": "e7a52c18-9d85-4262-9489-3c103ca2d094"
      },
      "execution_count": 5,
      "outputs": [
        {
          "output_type": "stream",
          "name": "stdout",
          "text": [
            "car 200 100\n"
          ]
        }
      ]
    },
    {
      "cell_type": "markdown",
      "source": [
        "Create a child class car from the vehicle class created in Que 1, which will inherit the vehicle class.\n",
        "Create a method named seating_capacity which takes capacity as an argument and returns the name of\n",
        "the vehicle and its seating capacity"
      ],
      "metadata": {
        "id": "WNdnxx7hpuQ1"
      }
    },
    {
      "cell_type": "code",
      "source": [
        "class vechile :\n",
        "  def __init__(self,name_of_vehicle,max_speed,average_of_vehicle):\n",
        "    self.name_of_vehicle=name_of_vehicle\n",
        "    self.max_speed=max_speed\n",
        "    self.average_of_vehicle=average_of_vehicle\n",
        "\n",
        "class car(vechile):\n",
        "  def seating_capacity(self,capacity):\n",
        "    return self.name_of_vehicle,self.max_speed,self.average_of_vehicle,capacity\n",
        "\n",
        "c=c=car(\"Honda\",180,120)\n",
        "c.seating_capacity(5)"
      ],
      "metadata": {
        "colab": {
          "base_uri": "https://localhost:8080/"
        },
        "id": "M-nXp2MJpgNm",
        "outputId": "287b6a01-686a-4cc8-cf92-7976d462d47b"
      },
      "execution_count": 8,
      "outputs": [
        {
          "output_type": "execute_result",
          "data": {
            "text/plain": [
              "('Honda', 180, 120, 5)"
            ]
          },
          "metadata": {},
          "execution_count": 8
        }
      ]
    },
    {
      "cell_type": "markdown",
      "source": [
        "What is multiple inheritance? Write a python code to demonstrate multiple inheritance."
      ],
      "metadata": {
        "id": "U9CY6bA-q51m"
      }
    },
    {
      "cell_type": "code",
      "source": [
        "#multiple inheritance :  a class can inherit from more than one parent class.this allows a child class to inherit attributes and methods from multiple parent classes.\n",
        "class Car:\n",
        "    def __init__(self, name, speed):\n",
        "        self.name = name\n",
        "        self.speed = speed\n",
        "\n",
        "class Bike:\n",
        "    def __init__(self, bike_name, bike_speed):\n",
        "        self.bike_name = bike_name\n",
        "        self.bike_speed = bike_speed\n",
        "\n",
        "class Vehicle(Car, Bike):\n",
        "    def __init__(self, car_name, car_speed, bike_name, bike_speed):\n",
        "\n",
        "        Car.__init__(self, car_name, car_speed)\n",
        "        Bike.__init__(self, bike_name, bike_speed)\n",
        "\n",
        "    def display(self):\n",
        "        print(f\"Car: {self.name}, Speed: {self.speed}\")\n",
        "        print(f\"Bike: {self.bike_name}, Speed: {self.bike_speed}\")\n",
        "\n",
        "v = Vehicle(\"Honda\", 180, \"Duke\", 200)\n",
        "v.display()\n"
      ],
      "metadata": {
        "colab": {
          "base_uri": "https://localhost:8080/"
        },
        "id": "VlDNg5pmqd97",
        "outputId": "59149bac-ffb6-494b-f738-7988adba4b8a"
      },
      "execution_count": 12,
      "outputs": [
        {
          "output_type": "stream",
          "name": "stdout",
          "text": [
            "Car: Honda, Speed: 180\n",
            "Bike: Duke, Speed: 200\n"
          ]
        }
      ]
    },
    {
      "cell_type": "markdown",
      "source": [
        " What are getter and setter in python? Create a class and create a getter and a setter method in this\n",
        "class"
      ],
      "metadata": {
        "id": "SmywU3fgtZ8X"
      }
    },
    {
      "cell_type": "code",
      "source": [
        "#getter : this method is used to retrive the value of an attribute\n",
        "#setter : this method is used to modify the value of an attribute\n",
        "class student :\n",
        "  def __init__(self,name,age):\n",
        "    self._name=name\n",
        "    self._age=age\n",
        "  def get_name(self):\n",
        "    return self._name\n",
        "  def set_name(self,name):\n",
        "    self._name=name\n",
        "  def get_age(self):\n",
        "    return self._age\n",
        "  def set_age(self,age):\n",
        "    self._age=age\n",
        "s=student(\"ram\",20)\n",
        "print(s.get_name())\n",
        "print(s.get_age())"
      ],
      "metadata": {
        "colab": {
          "base_uri": "https://localhost:8080/"
        },
        "id": "80TBtJ6osKtV",
        "outputId": "62f13e62-a6d5-4613-d1e9-4138b9cab760"
      },
      "execution_count": 14,
      "outputs": [
        {
          "output_type": "stream",
          "name": "stdout",
          "text": [
            "ram\n",
            "20\n"
          ]
        }
      ]
    },
    {
      "cell_type": "markdown",
      "source": [
        "What is method overriding in python? Write a python code to demonstrate method overriding"
      ],
      "metadata": {
        "id": "PJmbM9Y-teUj"
      }
    },
    {
      "cell_type": "code",
      "source": [
        "#method overriding :in this the subclass provides a specific impementation for a method that is already defined in its superclass(parent class)\n",
        "#when method is called on an object of the subclass,the over ridden version in the subclass is executed instead of the one in the superclass\n",
        "\n",
        "class animal :\n",
        "  def make_sound(self):\n",
        "    print(\"All animals have there own sound\")\n",
        "\n",
        "class dog(animal):\n",
        "  def make_sound(self):\n",
        "    print(\"dog barks\")\n",
        "class cat(animal):\n",
        "  def make_sound(self):\n",
        "    print(\"cat meows\")\n",
        "\n",
        "animal1 = animal()\n",
        "dog1 = dog()\n",
        "cat1 = cat()\n",
        "\n",
        "animal1.make_sound()\n",
        "dog1.make_sound()\n",
        "cat1.make_sound()"
      ],
      "metadata": {
        "colab": {
          "base_uri": "https://localhost:8080/"
        },
        "id": "s0bgq0-lthRI",
        "outputId": "910527a4-6f62-4bdf-bf8a-78750884b2ef"
      },
      "execution_count": 13,
      "outputs": [
        {
          "output_type": "stream",
          "name": "stdout",
          "text": [
            "All animals have there own sound\n",
            "dog barks\n",
            "cat meows\n"
          ]
        }
      ]
    },
    {
      "cell_type": "code",
      "source": [],
      "metadata": {
        "id": "JcG0eKXVuWW9"
      },
      "execution_count": null,
      "outputs": []
    }
  ]
}