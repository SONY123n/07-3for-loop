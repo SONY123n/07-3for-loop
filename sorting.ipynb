{
  "cells": [
    {
      "cell_type": "markdown",
      "metadata": {
        "id": "view-in-github",
        "colab_type": "text"
      },
      "source": [
        "<a href=\"https://colab.research.google.com/github/SONY123n/07-3for-loop/blob/main/sorting.ipynb\" target=\"_parent\"><img src=\"https://colab.research.google.com/assets/colab-badge.svg\" alt=\"Open In Colab\"/></a>"
      ]
    },
    {
      "cell_type": "markdown",
      "source": [
        "Given an array of n elements . Find three elements such that their sum is equal to the given\n",
        "number"
      ],
      "metadata": {
        "id": "T3bPLX-MUNz9"
      }
    },
    {
      "cell_type": "code",
      "execution_count": null,
      "metadata": {
        "colab": {
          "background_save": true,
          "base_uri": "https://localhost:8080/"
        },
        "id": "1OFIzs9wwwSM",
        "outputId": "4f97f27a-5b87-40d0-991f-4cae2b85bbce"
      },
      "outputs": [
        {
          "name": "stdout",
          "output_type": "stream",
          "text": [
            "(6, 5, 4)\n"
          ]
        }
      ],
      "source": [
        "def sumofthree(arr,n):\n",
        "  for i in range(0,len(arr)+1):\n",
        "    for j in range(i):\n",
        "      for k in range(j):\n",
        "        if arr[i]+arr[j]+arr[k]==n:\n",
        "          return arr[i],arr[j],arr[k]\n",
        "  return []\n",
        "arr=[1,2,3,4,5,6,7,8]\n",
        "n=15\n",
        "print(sumofthree(arr,n))"
      ]
    },
    {
      "cell_type": "markdown",
      "source": [
        " Given an array of n elements . Find three elements i, j, k in the array such that\n",
        "\n",
        "i * i + j * j = k*k"
      ],
      "metadata": {
        "id": "F0_TQE4zT9iF"
      }
    },
    {
      "cell_type": "code",
      "execution_count": null,
      "metadata": {
        "colab": {
          "base_uri": "https://localhost:8080/"
        },
        "id": "Iu-1pfnqxwdG",
        "outputId": "0689b9b7-d4a1-4376-dd4b-c25283d753b2"
      },
      "outputs": [
        {
          "name": "stdout",
          "output_type": "stream",
          "text": [
            "(3, 4, 5)\n"
          ]
        }
      ],
      "source": [
        "def threeelement(arr):\n",
        "  for i in range(0,len(arr)):\n",
        "    for j in range(0,len(arr)):\n",
        "      for k in range(0,len(arr)):\n",
        "        if arr[i]*arr[i]+arr[j]*arr[j]==arr[k]*arr[k] :\n",
        "          return arr[i],arr[j],arr[k]\n",
        "  return []\n",
        "\n",
        "arr=[3,4,5,6,7,8]\n",
        "print(threeelement(arr))"
      ]
    },
    {
      "cell_type": "code",
      "execution_count": null,
      "metadata": {
        "colab": {
          "base_uri": "https://localhost:8080/"
        },
        "id": "_HonodwozwVJ",
        "outputId": "125d07c8-0872-47e9-903f-96a02a49ba36"
      },
      "outputs": [
        {
          "name": "stdout",
          "output_type": "stream",
          "text": [
            "(7, 8)\n"
          ]
        }
      ],
      "source": [
        " #Given an array of n elements. Find two elements in the array such that their sum is equal to given element K\n",
        "\n",
        " def twoelement(arr,n):\n",
        "  for i in range(0,len(arr)):\n",
        "    for j in range(0,len(arr)):\n",
        "      if arr[i]+arr[j]==n:\n",
        "        return arr[i],arr[j]\n",
        "  return []\n",
        "\n",
        "arr=[1,2,3,4,5,6,7,8]\n",
        "n=15\n",
        "print(twoelement(arr,n))"
      ]
    },
    {
      "cell_type": "markdown",
      "metadata": {
        "id": "orAZ9EO60WNs"
      },
      "source": [
        " Given an array of both positive and negative numbers, find two numbers such that their sum is\n",
        "closest to 0. Ex: [ 1 ,60 ,-10, 70, -80,85]. Ans : -80,85"
      ]
    },
    {
      "cell_type": "code",
      "source": [
        "def sumclosesttozero(arr):\n",
        "  min_sum = float('inf')  # Initialize with positive infinity\n",
        "  closest_pair = []\n",
        "\n",
        "  for i in range(len(arr)):\n",
        "    for j in range(i + 1, len(arr)):\n",
        "      curr_sum = arr[i] + arr[j]\n",
        "\n",
        "      if abs(curr_sum) < abs(min_sum):\n",
        "        min_sum = curr_sum\n",
        "        closest_pair = [arr[i], arr[j]]\n",
        "\n",
        "  return closest_pair\n",
        "\n",
        "arr = [1, 60, -10, 70, -80, 85]\n",
        "print(sumclosesttozero(arr))"
      ],
      "metadata": {
        "colab": {
          "base_uri": "https://localhost:8080/"
        },
        "id": "oR2GSMq6QLB9",
        "outputId": "b13d3300-21b8-4ab9-d080-939298726779"
      },
      "execution_count": null,
      "outputs": [
        {
          "output_type": "stream",
          "name": "stdout",
          "text": [
            "[-80, 85]\n"
          ]
        }
      ]
    },
    {
      "cell_type": "markdown",
      "metadata": {
        "id": "BrLPCSS5SD5r"
      },
      "source": [
        "Sort an array of 0’s, 1’s and 2’s [or R’s, G’s and B’s]: Given an array A[] consisting of 0’s, 1’s and\n",
        "2’s, give an algorithm for sorting A[].The algorithm should put all 0’s first, then all 1’s and finally all 2’s at the\n",
        "end. Example Input = {0,1,1,0,1,2,1,2,0,0,0,1}, Output = {0,0,0,0,0,1,1,1,1,1,2,2"
      ]
    },
    {
      "cell_type": "code",
      "source": [
        "def sort_0_1_2(arr):\n",
        "  low = 0\n",
        "  mid = 0\n",
        "  high = len(arr) - 1\n",
        "\n",
        "  while mid <= high:\n",
        "    if arr[mid] == 0:\n",
        "      arr[low], arr[mid] = arr[mid], arr[low]\n",
        "      low += 1\n",
        "      mid += 1\n",
        "    elif arr[mid] == 1:\n",
        "      mid += 1\n",
        "    else:  # arr[mid] == 2\n",
        "      arr[mid], arr[high] = arr[high], arr[mid]\n",
        "      high -= 1\n",
        "\n",
        "  return arr\n",
        "\n",
        "arr = [0, 1, 1, 0, 1, 2, 1, 2, 0, 0, 0, 1]\n",
        "print(sort_0_1_2(arr))"
      ],
      "metadata": {
        "colab": {
          "base_uri": "https://localhost:8080/"
        },
        "id": "-EcnADjRPhOO",
        "outputId": "dfc4784b-ff6f-4e78-d088-fab29705de6d"
      },
      "execution_count": null,
      "outputs": [
        {
          "output_type": "stream",
          "name": "stdout",
          "text": [
            "[0, 0, 0, 0, 0, 1, 1, 1, 1, 1, 2, 2]\n"
          ]
        }
      ]
    },
    {
      "cell_type": "markdown",
      "source": [
        "1.Given an array of n numbers, give an algorithm which gives the element appearing maximum\n",
        "number of times?"
      ],
      "metadata": {
        "id": "M_rsqVphM8Jz"
      }
    },
    {
      "cell_type": "code",
      "source": [
        "def find_max_appearing(arr):\n",
        "  max_count=0\n",
        "  max_element=arr[0]\n",
        "  count=0\n",
        "  for i in range(len(arr)):\n",
        "    for j in range(len(arr)):\n",
        "      if arr[i]==arr[j]:\n",
        "        count+=1\n",
        "    if count>max_count:\n",
        "      max_count=count\n",
        "      max_element=arr[i]\n",
        "      count=0\n",
        "  return max_element"
      ],
      "metadata": {
        "id": "cmz4WLzsbGlN"
      },
      "execution_count": null,
      "outputs": []
    },
    {
      "cell_type": "code",
      "source": [
        "\n",
        "arr=[1,2,3,2,4,1,5,2,3,6,5,2]\n",
        "print(find_max_appearing(arr))"
      ],
      "metadata": {
        "colab": {
          "base_uri": "https://localhost:8080/"
        },
        "id": "J0vfp-BSOJi7",
        "outputId": "c6af6729-9955-4f6f-dffc-fc38b2c30628"
      },
      "execution_count": null,
      "outputs": [
        {
          "output_type": "stream",
          "name": "stdout",
          "text": [
            "2\n"
          ]
        }
      ]
    },
    {
      "cell_type": "markdown",
      "source": [
        "Given an array of n positive numbers. All numbers occurs even number of times except 1 which\n",
        "occurs odd number of times. Find that number in O(n) time and O(1) space. Ex: [1,2,3,2,3,1,3]. 3 is repeats odd times"
      ],
      "metadata": {
        "id": "G50e8gG6P2mk"
      }
    },
    {
      "cell_type": "code",
      "source": [
        "def find_num_appearing_odd_times(arr):\n",
        "  for i in range(len(arr)):\n",
        "    count=0\n",
        "    for j in range(len(arr)):\n",
        "      if arr[i]==arr[j]:\n",
        "        count+=1\n",
        "    if count%2!=0:\n",
        "      return arr[i]\n",
        "  return -1\n",
        "\n",
        "arr=[1,2,3,2,3,1,3]\n",
        "print(find_num_appearing_odd_times(arr))"
      ],
      "metadata": {
        "id": "2W5ht3NWOYec",
        "colab": {
          "base_uri": "https://localhost:8080/"
        },
        "outputId": "f7c93765-5e15-4194-cdcd-29eee03ed582"
      },
      "execution_count": null,
      "outputs": [
        {
          "output_type": "stream",
          "name": "stdout",
          "text": [
            "3\n"
          ]
        }
      ]
    },
    {
      "cell_type": "markdown",
      "source": [
        "An element is a majority if it appears more than n/2 times. Give an algorithm takes an array of n\n",
        "element as argument and identifies a majority (if it exists)"
      ],
      "metadata": {
        "id": "PmPADK_mUcHM"
      }
    },
    {
      "cell_type": "code",
      "source": [
        "def findMajorityElement(arr):\n",
        "    count=0\n",
        "\n",
        "    for i in arr:\n",
        "        if count==0:\n",
        "            element=i\n",
        "        if i==element:\n",
        "            count+=1\n",
        "        else:\n",
        "            count-=1\n",
        "    return element\n",
        "\n",
        "arr=[1,2,3,2,3,1,3]\n",
        "print(findMajorityElement(arr))\n"
      ],
      "metadata": {
        "colab": {
          "base_uri": "https://localhost:8080/"
        },
        "id": "hj7s4DcEY329",
        "outputId": "5b396051-672d-4790-fcad-07c96625b7de"
      },
      "execution_count": 19,
      "outputs": [
        {
          "output_type": "stream",
          "name": "stdout",
          "text": [
            "3\n"
          ]
        }
      ]
    },
    {
      "cell_type": "markdown",
      "source": [
        "Given n × n matrix, and in each row all 1’s are followed by 0’s. Find the row with the maximum\n",
        "number of 0’s"
      ],
      "metadata": {
        "id": "Yr3cGZk0UgfW"
      }
    },
    {
      "cell_type": "code",
      "source": [
        "def rows_with_max_zeros(matrix):\n",
        "  max_zeros=0\n",
        "  max_row=-1\n",
        "  for i in range(len(matrix)):\n",
        "    count=0\n",
        "    for j in range(len(matrix[0])):\n",
        "      if matrix[i][j]==0:\n",
        "        count+=1\n",
        "    if count>max_zeros:\n",
        "      max_zeros=count\n",
        "      max_row=i\n",
        "  return max_row\n",
        "m=[[1,0,0],[1,1,0],[0,0,0]]\n",
        "print(rows_with_max_zeros(m))"
      ],
      "metadata": {
        "colab": {
          "base_uri": "https://localhost:8080/"
        },
        "id": "T9r-ZaIJUp62",
        "outputId": "9f8c52b3-d901-4127-f779-0acd31d817e7"
      },
      "execution_count": null,
      "outputs": [
        {
          "output_type": "stream",
          "name": "stdout",
          "text": [
            "2\n"
          ]
        }
      ]
    },
    {
      "cell_type": "markdown",
      "source": [
        "\n",
        " We are given a list of n-1 integers and these integers are in the range of 1 to n . There are no\n",
        "duplicates in the list. One of the integers is missing in the list. Give an algorithm to find that element Ex:\n",
        "[1,2,4,6,3,7,8] 5 is the missing num"
      ],
      "metadata": {
        "id": "VUegR7p8UwWr"
      }
    },
    {
      "cell_type": "code",
      "source": [
        "def find_missing_num(arr):\n",
        "  n=len(arr)+1\n",
        "  expected_sum=n*(n+1)//2\n",
        "  actual_sum=sum(arr)\n",
        "  missing_num=expected_sum-actual_sum\n",
        "  return missing_num\n",
        "\n",
        "a=[1,2,4,5,6]\n",
        "print(find_missing_num(a))"
      ],
      "metadata": {
        "colab": {
          "base_uri": "https://localhost:8080/"
        },
        "id": "aU3T2PHBU1Ae",
        "outputId": "4f2c8303-5357-401c-ded5-99480e363a34"
      },
      "execution_count": null,
      "outputs": [
        {
          "output_type": "stream",
          "name": "stdout",
          "text": [
            "3\n"
          ]
        }
      ]
    },
    {
      "cell_type": "code",
      "source": [],
      "metadata": {
        "id": "3uqPa_nTUr09"
      },
      "execution_count": null,
      "outputs": []
    }
  ],
  "metadata": {
    "colab": {
      "provenance": [],
      "authorship_tag": "ABX9TyOM/5py8AzEh0FUoe+8O2cw",
      "include_colab_link": true
    },
    "kernelspec": {
      "display_name": "Python 3",
      "name": "python3"
    },
    "language_info": {
      "name": "python"
    }
  },
  "nbformat": 4,
  "nbformat_minor": 0
}