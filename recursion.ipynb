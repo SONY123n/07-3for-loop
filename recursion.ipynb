{
  "nbformat": 4,
  "nbformat_minor": 0,
  "metadata": {
    "colab": {
      "provenance": [],
      "authorship_tag": "ABX9TyOH0t84Vw/5WBiCAsveAyAH",
      "include_colab_link": true
    },
    "kernelspec": {
      "name": "python3",
      "display_name": "Python 3"
    },
    "language_info": {
      "name": "python"
    }
  },
  "cells": [
    {
      "cell_type": "markdown",
      "metadata": {
        "id": "view-in-github",
        "colab_type": "text"
      },
      "source": [
        "<a href=\"https://colab.research.google.com/github/SONY123n/07-3for-loop/blob/main/recursion.ipynb\" target=\"_parent\"><img src=\"https://colab.research.google.com/assets/colab-badge.svg\" alt=\"Open In Colab\"/></a>"
      ]
    },
    {
      "cell_type": "markdown",
      "source": [
        "Can you explain the logic and working of the Tower of Hanoi algorithm by writing a Java program?\n",
        "\n",
        "How does the recursion work, and how are the movements of disks between rods accomplished?"
      ],
      "metadata": {
        "id": "WFQdDsLkFcnj"
      }
    },
    {
      "cell_type": "code",
      "execution_count": null,
      "metadata": {
        "colab": {
          "base_uri": "https://localhost:8080/"
        },
        "id": "9mvTH6LBmAHF",
        "outputId": "a3e91639-7490-4838-9b54-9659d5e3413c"
      },
      "outputs": [
        {
          "output_type": "stream",
          "name": "stdout",
          "text": [
            "1023\n"
          ]
        }
      ],
      "source": [
        "def moves(n,s,d,a):\n",
        "  if n==1:\n",
        "    return 1\n",
        "  return moves(n-1,s,a,d)+1+moves(n-1,a,d,s)\n",
        "n=10\n",
        "print(moves(n,'s','d','a'))"
      ]
    },
    {
      "cell_type": "markdown",
      "source": [
        "\n",
        "3 Print the max value of the array [ 13, 1, -3, 22, 5 ]\n",
        "\n"
      ],
      "metadata": {
        "id": "N2gqZlmLnZI9"
      }
    },
    {
      "cell_type": "code",
      "source": [
        "def maxofarr(arr):\n",
        "  if len(arr)==1:\n",
        "    return arr[0]\n",
        "  return max(arr[0],maxofarr(arr[1:]))\n",
        "\n",
        "arr=[13,1,-3,22,5]\n",
        "print(maxofarr(arr))"
      ],
      "metadata": {
        "colab": {
          "base_uri": "https://localhost:8080/"
        },
        "id": "asL7Dx7lmmNW",
        "outputId": "11c5b755-ccc8-4c63-a83b-675e06cb1612"
      },
      "execution_count": null,
      "outputs": [
        {
          "output_type": "stream",
          "name": "stdout",
          "text": [
            "22\n"
          ]
        }
      ]
    },
    {
      "cell_type": "markdown",
      "source": [
        " Find the sum of the values of the array [92, 23, 15, -20, 10]"
      ],
      "metadata": {
        "id": "Bs9Xoa8UnpxV"
      }
    },
    {
      "cell_type": "code",
      "source": [
        "def sumofarr(arr):\n",
        "  if len(arr)==1:\n",
        "    return arr[0]\n",
        "  return arr[0]+sumofarr(arr[1:])\n",
        "\n",
        "arr=[92,23,15,-20,10]\n",
        "print(sumofarr(arr))"
      ],
      "metadata": {
        "colab": {
          "base_uri": "https://localhost:8080/"
        },
        "id": "eSD8qnoank8k",
        "outputId": "8eb81b1c-6f96-4ad7-a78f-e55d470c4855"
      },
      "execution_count": null,
      "outputs": [
        {
          "output_type": "stream",
          "name": "stdout",
          "text": [
            "120\n"
          ]
        }
      ]
    },
    {
      "cell_type": "markdown",
      "source": [
        " Given a number n. Print if it is an armstrong number or not.An armstrong number is a number if the sum\n",
        "of every digit in that number raised to the power of total digits in that number is equal to the number.\n",
        "\n",
        "Example : 153 = 1^3 + 5^3 + 3^3 = 1 + 125 + 27 = 153 hence 153 is an armstrong number."
      ],
      "metadata": {
        "id": "pr8NYjxCFXqX"
      }
    },
    {
      "cell_type": "code",
      "source": [
        "#armstrong numbers\n",
        "\n",
        "def armstrong_num(num):\n",
        "  if num==0:\n",
        "    return 0\n",
        "  return (num%10)**3+armstrong_num(num//10)\n",
        "\n",
        "num=153\n",
        "print(armstrong_num(num))"
      ],
      "metadata": {
        "id": "UUklQEZUn2UN",
        "colab": {
          "base_uri": "https://localhost:8080/",
          "height": 0
        },
        "outputId": "e55eac27-9428-4e3f-e4f2-ecf222ba3bf8"
      },
      "execution_count": 1,
      "outputs": [
        {
          "output_type": "stream",
          "name": "stdout",
          "text": [
            "153\n"
          ]
        }
      ]
    },
    {
      "cell_type": "code",
      "source": [
        "num=232\n",
        "print(armstrong_num(num))"
      ],
      "metadata": {
        "colab": {
          "base_uri": "https://localhost:8080/",
          "height": 0
        },
        "id": "bVOJTglsE3cq",
        "outputId": "a121c7f9-4b01-456e-adc8-f73e8a0423f8"
      },
      "execution_count": 2,
      "outputs": [
        {
          "output_type": "stream",
          "name": "stdout",
          "text": [
            "43\n"
          ]
        }
      ]
    },
    {
      "cell_type": "markdown",
      "source": [
        "Given two strings word1 and word2, return the minimum number of operations required to convert word1\n",
        "\n",
        "to word2"
      ],
      "metadata": {
        "id": "JrQ1gViXFtXE"
      }
    },
    {
      "cell_type": "code",
      "source": [
        "def mindistance(word1,word2):\n",
        "  if len(word1)==0:\n",
        "    return len(word2)\n",
        "  if len(word2)==0:\n",
        "    return len(word1)\n",
        "\n",
        "  if word1[0]==word2[0]:\n",
        "    return mindistance(word1[1:],word2[1:])\n",
        "\n",
        "  else:\n",
        "    insert=mindistance(word1,word2[1:])+1\n",
        "    delete=mindistance(word1[1:],word2)+1\n",
        "    replace=mindistance(word1[1:],word2[1:])+1\n",
        "    return min(insert,delete,replace)\n",
        "\n",
        "word1='horse'\n",
        "word2='ros'\n",
        "print(mindistance(word1,word2))"
      ],
      "metadata": {
        "colab": {
          "base_uri": "https://localhost:8080/",
          "height": 0
        },
        "id": "f_KPlSXtGKRp",
        "outputId": "d8cf8461-723c-4628-9eb4-28b8146fafab"
      },
      "execution_count": 3,
      "outputs": [
        {
          "output_type": "stream",
          "name": "stdout",
          "text": [
            "3\n"
          ]
        }
      ]
    },
    {
      "cell_type": "code",
      "source": [],
      "metadata": {
        "id": "Og1wm_i4H6sf"
      },
      "execution_count": null,
      "outputs": []
    }
  ]
}