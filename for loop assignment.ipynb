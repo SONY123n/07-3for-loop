{
 "cells": [
  {
   "cell_type": "code",
   "execution_count": 1,
   "id": "b4882805-b38c-4130-a45e-27612bd2c6b8",
   "metadata": {},
   "outputs": [
    {
     "name": "stdout",
     "output_type": "stream",
     "text": [
      "1\n",
      "2\n",
      "3\n",
      "4\n",
      "5\n",
      "6\n",
      "7\n",
      "8\n",
      "9\n",
      "10\n"
     ]
    }
   ],
   "source": [
    "#to print the numbers from 1 to 10\n",
    "for i in range(1,11):\n",
    "    print(i)"
   ]
  },
  {
   "cell_type": "code",
   "execution_count": 2,
   "id": "d59082f1-a3b8-4beb-b71a-bde710804a57",
   "metadata": {},
   "outputs": [],
   "source": [
    "#sum of all num in a list\n",
    "def sum_list(m):\n",
    "    sum_of_list=0\n",
    "    for num in m:\n",
    "        sum_of_list+=num\n",
    "    print(sum_of_list)"
   ]
  },
  {
   "cell_type": "code",
   "execution_count": 3,
   "id": "afcd0fe6-a6f9-4a59-912e-06f1cb0f8ea2",
   "metadata": {},
   "outputs": [
    {
     "name": "stdout",
     "output_type": "stream",
     "text": [
      "15\n"
     ]
    }
   ],
   "source": [
    "sum_list([1,2,3,4,5])"
   ]
  },
  {
   "cell_type": "code",
   "execution_count": 4,
   "id": "f658b989-1077-4214-869c-cf2b3d9595f9",
   "metadata": {},
   "outputs": [],
   "source": [
    "#print the characters of a string in reverse\n",
    "def reverse_string(s):\n",
    "    reversed_string=\"\"\n",
    "    for char in s:\n",
    "        reversed_string=char+reversed_string\n",
    "    return reversed_string"
   ]
  },
  {
   "cell_type": "code",
   "execution_count": 5,
   "id": "048555c2-ed44-4cad-b5f6-967466493db6",
   "metadata": {},
   "outputs": [
    {
     "data": {
      "text/plain": [
       "'ynosalupuraj'"
      ]
     },
     "execution_count": 5,
     "metadata": {},
     "output_type": "execute_result"
    }
   ],
   "source": [
    "reverse_string(\"jarupulasony\")"
   ]
  },
  {
   "cell_type": "code",
   "execution_count": 6,
   "id": "7075a69b-b714-4c28-be35-7c94a687f97d",
   "metadata": {},
   "outputs": [],
   "source": [
    "#factorial of a given num\n",
    "def factorial_num(m):\n",
    "    result=1\n",
    "    for i in range(1,m+1):\n",
    "        result=m*factorial_num(m-1)\n",
    "    return result"
   ]
  },
  {
   "cell_type": "code",
   "execution_count": 7,
   "id": "5df7cc63-d9ba-446f-a26e-97668d917233",
   "metadata": {},
   "outputs": [
    {
     "data": {
      "text/plain": [
       "120"
      ]
     },
     "execution_count": 7,
     "metadata": {},
     "output_type": "execute_result"
    }
   ],
   "source": [
    "factorial_num(5)"
   ]
  },
  {
   "cell_type": "code",
   "execution_count": 8,
   "id": "4e416a0d-816e-4443-94bb-e76fdffdedc0",
   "metadata": {},
   "outputs": [],
   "source": [
    "#multipiction table\n",
    "def enter_num(k):\n",
    "    for i in range(1,11):\n",
    "        print(k,\"*\",i,\"=\",k*i)"
   ]
  },
  {
   "cell_type": "code",
   "execution_count": 9,
   "id": "a55915a9-4455-42f2-b2b2-81ddc8dc99b2",
   "metadata": {},
   "outputs": [
    {
     "name": "stdout",
     "output_type": "stream",
     "text": [
      "25 * 1 = 25\n",
      "25 * 2 = 50\n",
      "25 * 3 = 75\n",
      "25 * 4 = 100\n",
      "25 * 5 = 125\n",
      "25 * 6 = 150\n",
      "25 * 7 = 175\n",
      "25 * 8 = 200\n",
      "25 * 9 = 225\n",
      "25 * 10 = 250\n"
     ]
    }
   ],
   "source": [
    "enter_num(25)"
   ]
  },
  {
   "cell_type": "code",
   "execution_count": 10,
   "id": "be826152-3c8e-46d3-941f-e88f020d1415",
   "metadata": {},
   "outputs": [],
   "source": [
    "#counts the num of even and odd nums in a list\n",
    "def even_odd_count(l):\n",
    "    even_count=0\n",
    "    odd_count=0\n",
    "    for i in l:\n",
    "        if i%2==0:\n",
    "            even_count+=1\n",
    "        else:\n",
    "            odd_count+=1\n",
    "    return even_count,odd_count"
   ]
  },
  {
   "cell_type": "code",
   "execution_count": 11,
   "id": "378b7aed-f4c2-4ee1-b462-e3a7c292b451",
   "metadata": {},
   "outputs": [
    {
     "data": {
      "text/plain": [
       "(2, 4)"
      ]
     },
     "execution_count": 11,
     "metadata": {},
     "output_type": "execute_result"
    }
   ],
   "source": [
    "even_odd_count([12,3,45,65,767,64])"
   ]
  },
  {
   "cell_type": "code",
   "execution_count": 12,
   "id": "369e6d46-d467-40be-bc34-7a250c1e5926",
   "metadata": {},
   "outputs": [
    {
     "name": "stdout",
     "output_type": "stream",
     "text": [
      "[1, 4, 9, 16, 25]\n"
     ]
    }
   ],
   "source": [
    "#prints the squares of num from 1 to 5\n",
    "squares=[]\n",
    "for num in range(1,6):\n",
    "    square=num**2\n",
    "    squares.append(square)\n",
    "print(squares)"
   ]
  },
  {
   "cell_type": "code",
   "execution_count": 13,
   "id": "68f5689f-c067-4e41-b3a0-4b7c32c3a76e",
   "metadata": {},
   "outputs": [],
   "source": [
    "#length of  a string without using len()\n",
    "def get_length(string):\n",
    "    count=0\n",
    "    for char in string:\n",
    "        count+=1\n",
    "    return count"
   ]
  },
  {
   "cell_type": "code",
   "execution_count": 14,
   "id": "298a8b91-2959-4a62-b1b5-a2694434044e",
   "metadata": {},
   "outputs": [
    {
     "data": {
      "text/plain": [
       "4"
      ]
     },
     "execution_count": 14,
     "metadata": {},
     "output_type": "execute_result"
    }
   ],
   "source": [
    "get_length([1,2,3,45])"
   ]
  },
  {
   "cell_type": "code",
   "execution_count": 15,
   "id": "f18920c7-cb2b-4f98-9080-47c254532aef",
   "metadata": {},
   "outputs": [
    {
     "data": {
      "text/plain": [
       "4"
      ]
     },
     "execution_count": 15,
     "metadata": {},
     "output_type": "execute_result"
    }
   ],
   "source": [
    "get_length(\"sony\")"
   ]
  },
  {
   "cell_type": "code",
   "execution_count": 16,
   "id": "5e1eb736-e0c4-4e87-a612-dcb60ebe84ac",
   "metadata": {},
   "outputs": [],
   "source": [
    "#calculate the average of a list\n",
    "def calculate_avg(l):\n",
    "    total=0\n",
    "    for num in l:\n",
    "        total+=num\n",
    "    average=total/len(l)\n",
    "    return average"
   ]
  },
  {
   "cell_type": "code",
   "execution_count": 17,
   "id": "74b023b2-9453-4974-851e-197ab74ca406",
   "metadata": {},
   "outputs": [
    {
     "data": {
      "text/plain": [
       "48.8"
      ]
     },
     "execution_count": 17,
     "metadata": {},
     "output_type": "execute_result"
    }
   ],
   "source": [
    "calculate_avg([23,34,56,54,77])"
   ]
  },
  {
   "cell_type": "code",
   "execution_count": 20,
   "id": "a23d4f3f-74b1-426d-b938-431984c8238e",
   "metadata": {},
   "outputs": [
    {
     "name": "stdin",
     "output_type": "stream",
     "text": [
      "enter the num: 8\n"
     ]
    },
    {
     "name": "stdout",
     "output_type": "stream",
     "text": [
      "[0, 1, 1, 2, 3, 5, 8, 13]\n"
     ]
    }
   ],
   "source": [
    "#to print first n fibonacci num\n",
    "n=int(input(\"enter the num:\"))\n",
    "fib_list=[0,1]\n",
    "for i in range(2,n):\n",
    "    next_num=fib_list[i-1]+fib_list[i-2]\n",
    "    fib_list.append(next_num)\n",
    "print(fib_list)"
   ]
  },
  {
   "cell_type": "code",
   "execution_count": 21,
   "id": "ae6baa8e-e209-4bb8-a260-d189418bf8d2",
   "metadata": {},
   "outputs": [
    {
     "ename": "IndentationError",
     "evalue": "unexpected indent (3563922132.py, line 2)",
     "output_type": "error",
     "traceback": [
      "\u001b[0;36m  Cell \u001b[0;32mIn[21], line 2\u001b[0;36m\u001b[0m\n\u001b[0;31m    my_list=[1,2,2,3,4,43]\u001b[0m\n\u001b[0m    ^\u001b[0m\n\u001b[0;31mIndentationError\u001b[0m\u001b[0;31m:\u001b[0m unexpected indent\n"
     ]
    }
   ],
   "source": [
    "#to check duplicates in alist   \n",
    "    my_list=[1,2,2,3,4,43]\n",
    "    has_duplicates=False\n",
    "    for i in my_list:\n",
    "        if my_list.count(i)>1:\n",
    "            has_dupicates=True\n",
    "            break\n",
    "    if has_duplicates:\n",
    "        print(\"the list contains duplicates\")\n",
    "    else:\n",
    "        print(\"the list does not contains duplicates\")\n",
    "        "
   ]
  },
  {
   "cell_type": "code",
   "execution_count": 22,
   "id": "6f7d92a3-059c-4597-8561-581413b0fb02",
   "metadata": {},
   "outputs": [
    {
     "name": "stdout",
     "output_type": "stream",
     "text": [
      "Prime numbers between 2 and 21 are:\n",
      "2\n",
      "3\n",
      "5\n",
      "7\n",
      "11\n",
      "13\n",
      "17\n",
      "19\n"
     ]
    }
   ],
   "source": [
    "#prime num in a gievn range\n",
    "a=2\n",
    "b=21\n",
    "\n",
    "print(\"Prime numbers between\",a, \"and\", b, \"are:\")\n",
    "\n",
    "for num in range(a,b+ 1):\n",
    "   # all prime numbers are greater than 1\n",
    "   if num > 1:\n",
    "       for i in range(2, num):\n",
    "           if (num % i) == 0:\n",
    "               break\n",
    "       else:\n",
    "           print(num)\n"
   ]
  },
  {
   "cell_type": "code",
   "execution_count": 23,
   "id": "b9a2dfef-16f6-47b0-8404-43b783d11da2",
   "metadata": {},
   "outputs": [],
   "source": [
    "#count vowels in a string\n",
    "def count_vowels(string):\n",
    "    vowels=\"aeiouAEIOU\"\n",
    "    count=0\n",
    "    for char in string:\n",
    "        if char in vowels:\n",
    "            count+=1\n",
    "    return count"
   ]
  },
  {
   "cell_type": "code",
   "execution_count": 24,
   "id": "bb38f693-654f-4d7a-86d2-e2c5e36f6194",
   "metadata": {},
   "outputs": [
    {
     "data": {
      "text/plain": [
       "5"
      ]
     },
     "execution_count": 24,
     "metadata": {},
     "output_type": "execute_result"
    }
   ],
   "source": [
    "count_vowels(\"jarupulasony\")"
   ]
  },
  {
   "cell_type": "code",
   "execution_count": 25,
   "id": "742a5e13-954b-4084-91d4-bbdf2d3a45f4",
   "metadata": {},
   "outputs": [],
   "source": [
    "#to count max element in a 2D list\n",
    "def find_max_element(l):\n",
    "    max_element=l[0]\n",
    "    for sublist in l:\n",
    "        for element in sublist:\n",
    "            if element>max_element:\n",
    "                max_element=element\n",
    "    return max_element"
   ]
  },
  {
   "cell_type": "code",
   "execution_count": 26,
   "id": "ffefbf0c-57a7-4cb0-8d4e-facd70111fca",
   "metadata": {},
   "outputs": [
    {
     "ename": "TypeError",
     "evalue": "'int' object is not iterable",
     "output_type": "error",
     "traceback": [
      "\u001b[0;31m---------------------------------------------------------------------------\u001b[0m",
      "\u001b[0;31mTypeError\u001b[0m                                 Traceback (most recent call last)",
      "Cell \u001b[0;32mIn[26], line 1\u001b[0m\n\u001b[0;32m----> 1\u001b[0m \u001b[43mfind_max_element\u001b[49m\u001b[43m(\u001b[49m\u001b[43m[\u001b[49m\u001b[38;5;241;43m2\u001b[39;49m\u001b[43m,\u001b[49m\u001b[38;5;241;43m3\u001b[39;49m\u001b[43m,\u001b[49m\u001b[38;5;241;43m4\u001b[39;49m\u001b[43m,\u001b[49m\u001b[38;5;241;43m5\u001b[39;49m\u001b[43m,\u001b[49m\u001b[43m[\u001b[49m\u001b[38;5;241;43m56\u001b[39;49m\u001b[43m,\u001b[49m\u001b[38;5;241;43m6\u001b[39;49m\u001b[43m,\u001b[49m\u001b[38;5;241;43m76\u001b[39;49m\u001b[43m]\u001b[49m\u001b[43m]\u001b[49m\u001b[43m)\u001b[49m\n",
      "Cell \u001b[0;32mIn[25], line 5\u001b[0m, in \u001b[0;36mfind_max_element\u001b[0;34m(l)\u001b[0m\n\u001b[1;32m      3\u001b[0m max_element\u001b[38;5;241m=\u001b[39ml[\u001b[38;5;241m0\u001b[39m]\n\u001b[1;32m      4\u001b[0m \u001b[38;5;28;01mfor\u001b[39;00m sublist \u001b[38;5;129;01min\u001b[39;00m l:\n\u001b[0;32m----> 5\u001b[0m     \u001b[38;5;28;01mfor\u001b[39;00m element \u001b[38;5;129;01min\u001b[39;00m sublist:\n\u001b[1;32m      6\u001b[0m         \u001b[38;5;28;01mif\u001b[39;00m element\u001b[38;5;241m>\u001b[39mmax_element:\n\u001b[1;32m      7\u001b[0m             max_element\u001b[38;5;241m=\u001b[39melement\n",
      "\u001b[0;31mTypeError\u001b[0m: 'int' object is not iterable"
     ]
    }
   ],
   "source": [
    "find_max_element([2,3,4,5,[56,6,76]])"
   ]
  },
  {
   "cell_type": "code",
   "execution_count": 27,
   "id": "932dd912-f4b4-4ac9-a4fc-8c3bcddc6cfa",
   "metadata": {},
   "outputs": [],
   "source": [
    "#removes all occurences of a specific element\n",
    "def remove_all_occurances(l,item):\n",
    "    new_list=[]\n",
    "    for element in l:\n",
    "        if element!=item:\n",
    "            new_list.append(element)\n",
    "    return new_list"
   ]
  },
  {
   "cell_type": "code",
   "execution_count": 28,
   "id": "7d0cd154-110d-42e1-a252-650907eb9593",
   "metadata": {},
   "outputs": [
    {
     "data": {
      "text/plain": [
       "[1, 4, 5, 6, 7]"
      ]
     },
     "execution_count": 28,
     "metadata": {},
     "output_type": "execute_result"
    }
   ],
   "source": [
    "remove_all_occurances([1,2,2,2,4,5,6,7],2)"
   ]
  },
  {
   "cell_type": "code",
   "execution_count": 29,
   "id": "8129fe72-67de-4766-9aef-d1bea90f611b",
   "metadata": {},
   "outputs": [
    {
     "name": "stdout",
     "output_type": "stream",
     "text": [
      "1 * 1 = 1\n",
      "1 * 2 = 2\n",
      "1 * 3 = 3\n",
      "1 * 4 = 4\n",
      "1 * 5 = 5\n",
      "1 * 6 = 6\n",
      "1 * 7 = 7\n",
      "1 * 8 = 8\n",
      "1 * 9 = 9\n",
      "1 * 10 = 10\n",
      "2 * 1 = 2\n",
      "2 * 2 = 4\n",
      "2 * 3 = 6\n",
      "2 * 4 = 8\n",
      "2 * 5 = 10\n",
      "2 * 6 = 12\n",
      "2 * 7 = 14\n",
      "2 * 8 = 16\n",
      "2 * 9 = 18\n",
      "2 * 10 = 20\n",
      "3 * 1 = 3\n",
      "3 * 2 = 6\n",
      "3 * 3 = 9\n",
      "3 * 4 = 12\n",
      "3 * 5 = 15\n",
      "3 * 6 = 18\n",
      "3 * 7 = 21\n",
      "3 * 8 = 24\n",
      "3 * 9 = 27\n",
      "3 * 10 = 30\n",
      "4 * 1 = 4\n",
      "4 * 2 = 8\n",
      "4 * 3 = 12\n",
      "4 * 4 = 16\n",
      "4 * 5 = 20\n",
      "4 * 6 = 24\n",
      "4 * 7 = 28\n",
      "4 * 8 = 32\n",
      "4 * 9 = 36\n",
      "4 * 10 = 40\n",
      "5 * 1 = 5\n",
      "5 * 2 = 10\n",
      "5 * 3 = 15\n",
      "5 * 4 = 20\n",
      "5 * 5 = 25\n",
      "5 * 6 = 30\n",
      "5 * 7 = 35\n",
      "5 * 8 = 40\n",
      "5 * 9 = 45\n",
      "5 * 10 = 50\n"
     ]
    }
   ],
   "source": [
    "#muitiplication table for num 1 to 5\n",
    "for i in range(1,6):\n",
    "    for j in range(1,11):\n",
    "        result=i*j\n",
    "        print(i,\"*\",j,\"=\",result)"
   ]
  },
  {
   "cell_type": "code",
   "execution_count": 30,
   "id": "b903f30d-fac5-432a-bedd-7ecec207e883",
   "metadata": {},
   "outputs": [
    {
     "name": "stdout",
     "output_type": "stream",
     "text": [
      "fahrenheit temp: [32, 104, 78, 987]\n",
      "celsius temp [0.0, 40.0, 25.555555555555557, 530.5555555555555]\n"
     ]
    }
   ],
   "source": [
    "#to convert fahrenheit to celsius\n",
    "fahrenheit_temp=[32,104,78,987]\n",
    "celsius_temp=[]\n",
    "for temp in fahrenheit_temp:\n",
    "    celsius=(temp-32)*5/9\n",
    "    celsius_temp.append(celsius)\n",
    "print(\"fahrenheit temp:\",fahrenheit_temp)\n",
    "print(\"celsius temp\",celsius_temp)"
   ]
  },
  {
   "cell_type": "code",
   "execution_count": 31,
   "id": "2074f8eb-2f62-4280-a460-b8b9ff60af3a",
   "metadata": {},
   "outputs": [
    {
     "name": "stdout",
     "output_type": "stream",
     "text": [
      "common element: [43, 32]\n"
     ]
    }
   ],
   "source": [
    "#to print the common elements having in both list\n",
    "l1=[1,2,3,43,32]\n",
    "l2=[4,34,54,32,43]\n",
    "common_elements=[]\n",
    "for element in l1:\n",
    "    if element in l2:\n",
    "        common_elements.append(element)\n",
    "print(\"common element:\",common_elements)"
   ]
  },
  {
   "cell_type": "code",
   "execution_count": 32,
   "id": "6614af60-0684-43b4-9326-a7472ef09e9b",
   "metadata": {},
   "outputs": [
    {
     "name": "stdin",
     "output_type": "stream",
     "text": [
      "enter the num 9\n"
     ]
    },
    {
     "name": "stdout",
     "output_type": "stream",
     "text": [
      "*\n",
      "**\n",
      "***\n",
      "****\n",
      "*****\n",
      "******\n",
      "*******\n",
      "********\n",
      "*********\n"
     ]
    }
   ],
   "source": [
    "#print the pattern\n",
    "\n",
    "\n",
    "\n",
    "rows=int(input(\"enter the num\"))\n",
    "for i in range(1,rows+1):\n",
    "    for j in range(1,i+1):\n",
    "        print(\"*\",end=\"\")\n",
    "    print()\n",
    "    "
   ]
  },
  {
   "cell_type": "code",
   "execution_count": 34,
   "id": "29e2cbd7-5daf-493a-8b1d-33554513316f",
   "metadata": {},
   "outputs": [
    {
     "name": "stdout",
     "output_type": "stream",
     "text": [
      "GCD of  20 and 10 is 10\n"
     ]
    }
   ],
   "source": [
    "#to find the greatest common divisor of two num\n",
    "a=20\n",
    "\n",
    "b=10\n",
    "if a<b:\n",
    "    smaller=b\n",
    "else:\n",
    "    smaller=a\n",
    "for i in range(1,smaller+1):\n",
    "    if a%i==0 and b%i==0:\n",
    "        gcd=i\n",
    "print(\"GCD of \",a,\"and\",b,\"is\",gcd)"
   ]
  },
  {
   "cell_type": "code",
   "execution_count": 35,
   "id": "be9924fd-c06d-46a2-845f-099aa32bc7e6",
   "metadata": {},
   "outputs": [
    {
     "name": "stdout",
     "output_type": "stream",
     "text": [
      "sum of digits in the list: [18, 21, 33]\n"
     ]
    }
   ],
   "source": [
    "#sum of the digits of num in alist\n",
    "\n",
    "num=[3456,678,9987]\n",
    "digit_sums=[]\n",
    "for i in num:\n",
    "    digit_sum=sum(int(digit)for digit in str(i))\n",
    "    digit_sums.append(digit_sum)\n",
    "print(\"sum of digits in the list:\",digit_sums)"
   ]
  },
  {
   "cell_type": "code",
   "execution_count": 36,
   "id": "396627a6-3f7c-4d7f-a371-68f34da7cec1",
   "metadata": {},
   "outputs": [],
   "source": [
    "#prime factor of agiven numbers\n",
    "def find_prime_factor(num):\n",
    "    prime_factors=[]\n",
    "    for i in range(2,num+1):\n",
    "        while num%i==0:\n",
    "            prime_factors.append(i)\n",
    "            num//=i\n",
    "    return prime_factors"
   ]
  },
  {
   "cell_type": "code",
   "execution_count": 37,
   "id": "70993e21-7d76-4e7a-b23f-542d1e637646",
   "metadata": {},
   "outputs": [
    {
     "data": {
      "text/plain": [
       "[2, 2, 3]"
      ]
     },
     "execution_count": 37,
     "metadata": {},
     "output_type": "execute_result"
    }
   ],
   "source": [
    "find_prime_factor(12)\n"
   ]
  },
  {
   "cell_type": "code",
   "execution_count": 38,
   "id": "0166bcc8-85b0-49c1-a47a-56fd49922c2d",
   "metadata": {},
   "outputs": [
    {
     "name": "stdout",
     "output_type": "stream",
     "text": [
      "unique elements from the list: [1, 3, 4, 34, 55]\n"
     ]
    }
   ],
   "source": [
    "#to extracts unique elements from a list\n",
    "original_list=[1,2,2,3,4,34,55]\n",
    "unique_list=[]\n",
    "for element in original_list:\n",
    "    if original_list.count(element)==1:\n",
    "        unique_list.append(element)\n",
    "print(\"unique elements from the list:\",unique_list)"
   ]
  },
  {
   "cell_type": "code",
   "execution_count": 39,
   "id": "29787e1f-1eef-47d5-9bd6-589b4c1a008c",
   "metadata": {},
   "outputs": [
    {
     "name": "stdin",
     "output_type": "stream",
     "text": [
      "enter the limit 23\n"
     ]
    },
    {
     "name": "stdout",
     "output_type": "stream",
     "text": [
      "[0, 1, 2, 3, 4, 5, 6, 7, 8, 9, 11, 22]\n"
     ]
    }
   ],
   "source": [
    "#a list of all palindromic\n",
    "limit=int(input(\"enter the limit\"))\n",
    "palindromic_num=[]\n",
    "for num in range(limit+1):\n",
    "    num_str=str(num)\n",
    "    if num_str==num_str[::-1]:\n",
    "        palindromic_num.append(num)\n",
    "print(palindromic_num)\n"
   ]
  },
  {
   "cell_type": "code",
   "execution_count": 43,
   "id": "bdd605ea-5bbf-4ad9-b36f-6c4fe558c433",
   "metadata": {},
   "outputs": [
    {
     "ename": "IndentationError",
     "evalue": "unexpected indent (2071571839.py, line 2)",
     "output_type": "error",
     "traceback": [
      "\u001b[0;36m  Cell \u001b[0;32mIn[43], line 2\u001b[0;36m\u001b[0m\n\u001b[0;31m    nested_list=[[1,2,3,3],[3,4,4]]\u001b[0m\n\u001b[0m    ^\u001b[0m\n\u001b[0;31mIndentationError\u001b[0m\u001b[0;31m:\u001b[0m unexpected indent\n"
     ]
    }
   ],
   "source": [
    "  #to flatten a nested list  \n",
    "    nested_list=[[1,2,3,3],[3,4,4]]\n",
    "    flattened_list=[]\n",
    "    for sublist in nested_list:\n",
    "        for num in sublist:\n",
    "            flattened_list.append(num)\n",
    "    print(flattened_list)"
   ]
  },
  {
   "cell_type": "code",
   "execution_count": 44,
   "id": "49042d6b-4039-44c5-8f3c-d43b675ba49a",
   "metadata": {},
   "outputs": [
    {
     "name": "stdout",
     "output_type": "stream",
     "text": [
      "sum of even num: 354\n",
      "sum of odd num: 68\n"
     ]
    }
   ],
   "source": [
    "#to get the sum of even and odd num\n",
    "num=[2,32,1,54,67,78,98,90]\n",
    "even_sum=0\n",
    "odd_sum=0\n",
    "for i in num:\n",
    "    if i%2==0:\n",
    "        even_sum+=i\n",
    "    else:\n",
    "        odd_sum+=i\n",
    "print(\"sum of even num:\",even_sum)\n",
    "print(\"sum of odd num:\",odd_sum)"
   ]
  },
  {
   "cell_type": "code",
   "execution_count": 45,
   "id": "d60acf41-d72c-44cb-ac17-9961e3502974",
   "metadata": {},
   "outputs": [
    {
     "name": "stdout",
     "output_type": "stream",
     "text": [
      "sqaures of even numbers: [4, 16, 36, 64, 100]\n",
      "sqaures of odd numbers: [1, 9, 25, 49, 81]\n"
     ]
    }
   ],
   "source": [
    "#list of squares of odd and even num\n",
    "even_squares=[]\n",
    "odd_squares=[]\n",
    "for num in range(1,11):\n",
    "    if num%2==0:\n",
    "        even_squares.append(num**2)\n",
    "    else:\n",
    "        odd_squares.append(num**2)\n",
    "print(\"sqaures of even numbers:\",even_squares)\n",
    "print(\"sqaures of odd numbers:\",odd_squares)"
   ]
  },
  {
   "cell_type": "code",
   "execution_count": 46,
   "id": "2c4278f0-36a6-441d-b58a-014869fb944b",
   "metadata": {},
   "outputs": [
    {
     "name": "stdout",
     "output_type": "stream",
     "text": [
      "{'a': 1, 'b': 2, 'c': 3}\n"
     ]
    }
   ],
   "source": [
    "#twolist of into dictionary\n",
    "keys=['a','b','c']\n",
    "values=[1,2,3]\n",
    "dic={}\n",
    "for i in range(len(keys)):\n",
    "    dic[keys[i]]=values[i]\n",
    "print(dic)"
   ]
  },
  {
   "cell_type": "code",
   "execution_count": 47,
   "id": "73633969-5a36-4b57-815b-70ff69d8e809",
   "metadata": {},
   "outputs": [
    {
     "name": "stdout",
     "output_type": "stream",
     "text": [
      "['a', 'e', 'i', 'o']\n"
     ]
    }
   ],
   "source": [
    "#to extracts the vowels and stores them in alist\n",
    "str=\"my name is sony\"\n",
    "vowels=[]\n",
    "for char in str:\n",
    "    if char.lower() in \"aeiou\":\n",
    "        vowels.append(char)\n",
    "print(vowels)"
   ]
  },
  {
   "cell_type": "code",
   "execution_count": 48,
   "id": "29cd81fd-56bf-4945-bfc8-de88a04d1308",
   "metadata": {},
   "outputs": [
    {
     "name": "stdout",
     "output_type": "stream",
     "text": [
      "['123', '556']\n"
     ]
    }
   ],
   "source": [
    "#to remove non numeric character\n",
    "s=['123','ert','556','gfgf']\n",
    "num=[]\n",
    "for string in s :\n",
    "    if string.isnumeric():\n",
    "        num.append(string)\n",
    "print(num)"
   ]
  },
  {
   "cell_type": "code",
   "execution_count": 49,
   "id": "da6498e0-daf7-4131-b58c-79ffb98f9960",
   "metadata": {},
   "outputs": [
    {
     "name": "stdin",
     "output_type": "stream",
     "text": [
      "enter a num 50\n"
     ]
    },
    {
     "name": "stdout",
     "output_type": "stream",
     "text": [
      "[2, 3, 5, 7, 11, 13, 17, 19, 23, 29, 31, 37, 41, 43, 47]\n"
     ]
    }
   ],
   "source": [
    "#list of prime num using sieve of eratosthenes algorithm\n",
    "def sieve_of_eratosthenes(n):\n",
    "    primes=[True]*(n+1)\n",
    "    primes[0]=primes[1]=False\n",
    "    for i in range(2, int(n**0.5)+1):\n",
    "        if primes[i]:\n",
    "            for j in range(i*i,n+1,i):\n",
    "                primes[j]=False\n",
    "    return [num for num,is_prime in enumerate(primes) if is_prime]\n",
    "n=int(input(\"enter a num\"))\n",
    "prime_number=sieve_of_eratosthenes(n)\n",
    "print(prime_number)\n",
    "    "
   ]
  },
  {
   "cell_type": "code",
   "execution_count": 50,
   "id": "00440fc5-ad80-4cee-9996-670c64bfde28",
   "metadata": {},
   "outputs": [
    {
     "name": "stdin",
     "output_type": "stream",
     "text": [
      "enter the limit 100\n"
     ]
    },
    {
     "name": "stdout",
     "output_type": "stream",
     "text": [
      "[(3, 4, 5), (6, 8, 10), (5, 12, 13), (9, 12, 15), (8, 15, 17), (12, 16, 20), (15, 20, 25), (7, 24, 25), (10, 24, 26), (20, 21, 29), (18, 24, 30), (16, 30, 34), (21, 28, 35), (12, 35, 37), (15, 36, 39), (24, 32, 40), (9, 40, 41), (27, 36, 45), (30, 40, 50), (14, 48, 50), (24, 45, 51), (20, 48, 52), (28, 45, 53), (33, 44, 55), (40, 42, 58), (36, 48, 60), (11, 60, 61), (39, 52, 65), (33, 56, 65), (25, 60, 65), (16, 63, 65), (32, 60, 68), (42, 56, 70), (48, 55, 73), (24, 70, 74), (45, 60, 75), (21, 72, 75), (30, 72, 78), (48, 64, 80), (18, 80, 82), (51, 68, 85), (40, 75, 85), (36, 77, 85), (13, 84, 85), (60, 63, 87), (39, 80, 89), (54, 72, 90), (35, 84, 91), (57, 76, 95), (65, 72, 97), (60, 80, 100), (28, 96, 100)]\n"
     ]
    }
   ],
   "source": [
    "#list of all pythagorean triples up to specified limit\n",
    "limit=int(input(\"enter the limit\"))\n",
    "triplets=[]\n",
    "for c in range(1,limit+1):\n",
    "    for b in range(1,c):\n",
    "        for a in range(1,b):\n",
    "            if a**2+b**2==c**2:\n",
    "                triplets.append((a,b,c))\n",
    "print(triplets)"
   ]
  },
  {
   "cell_type": "code",
   "execution_count": 51,
   "id": "34628dc5-9ea7-4a5f-8226-7bed69c9bbd0",
   "metadata": {},
   "outputs": [
    {
     "name": "stdout",
     "output_type": "stream",
     "text": [
      "[(1, 'a'), (1, 'd'), (1, 'l'), (1, 'k'), (2, 'a'), (2, 'd'), (2, 'l'), (2, 'k'), (3, 'a'), (3, 'd'), (3, 'l'), (3, 'k'), (34, 'a'), (34, 'd'), (34, 'l'), (34, 'k')]\n"
     ]
    }
   ],
   "source": [
    "#a list of all possible combinations\n",
    "l1=[1,2,3,34]\n",
    "l2=['a','d','l','k']\n",
    "combinations=[]\n",
    "for x in l1:\n",
    "    for y in l2:\n",
    "        combinations.append((x,y))\n",
    "print(combinations)"
   ]
  },
  {
   "cell_type": "code",
   "execution_count": 52,
   "id": "80606a91-efaf-4ea8-884e-fa6b6c27b418",
   "metadata": {},
   "outputs": [
    {
     "name": "stdout",
     "output_type": "stream",
     "text": [
      "mean 3.0\n",
      "median 3\n",
      "mode 1\n"
     ]
    }
   ],
   "source": [
    "#to find mean ,median,mode\n",
    "num=[1,2,3,4,5]\n",
    "total=0\n",
    "for i in num:\n",
    "    total+=i\n",
    "mean=total/len(num)\n",
    "sorted_num=sorted(num)\n",
    "mid=len(sorted_num)//2\n",
    "if len(sorted_num)%2==0:\n",
    "    median=(sorted_num[mid-1]+sorted_num[mid])/2\n",
    "else:\n",
    "    median=sorted_num[mid]\n",
    "count={}\n",
    "for i in num:\n",
    "    if i in count:\n",
    "        count[i]+=1\n",
    "    else:\n",
    "        count[i]=1\n",
    "mode=max(count,key=count.get)\n",
    "print(\"mean\",mean)\n",
    "print(\"median\",median)\n",
    "print(\"mode\",mode)"
   ]
  },
  {
   "cell_type": "code",
   "execution_count": 54,
   "id": "81b18519-665f-4731-a9a6-93b3a9379449",
   "metadata": {},
   "outputs": [
    {
     "ename": "IndentationError",
     "evalue": "unindent does not match any outer indentation level (<tokenize>, line 11)",
     "output_type": "error",
     "traceback": [
      "\u001b[0;36m  File \u001b[0;32m<tokenize>:11\u001b[0;36m\u001b[0m\n\u001b[0;31m    return triangle\u001b[0m\n\u001b[0m    ^\u001b[0m\n\u001b[0;31mIndentationError\u001b[0m\u001b[0;31m:\u001b[0m unindent does not match any outer indentation level\n"
     ]
    }
   ],
   "source": [
    "#pascals triangle \n",
    "def pascals_triangle(num_rows):\n",
    "    triangle=[]\n",
    "    for row in range(num_rows):\n",
    "        current_row=[1]*(row+1)\n",
    "        if row>1:\n",
    "            for col in range(1,row):\n",
    "                current_row[col]=triangle[row-1]\n",
    "[col-1]+triangle[row-1][col]\n",
    "        triangle.apprnd(current_row)\n",
    "    return triangle\n"
   ]
  },
  {
   "cell_type": "code",
   "execution_count": 75,
   "id": "a5c7a2ae-f22a-4177-b50d-98931ebaa328",
   "metadata": {},
   "outputs": [
    {
     "ename": "TypeError",
     "evalue": "'str' object is not callable",
     "output_type": "error",
     "traceback": [
      "\u001b[0;31m---------------------------------------------------------------------------\u001b[0m",
      "\u001b[0;31mTypeError\u001b[0m                                 Traceback (most recent call last)",
      "Cell \u001b[0;32mIn[75], line 7\u001b[0m\n\u001b[1;32m      5\u001b[0m factorial\u001b[38;5;241m=\u001b[39mmath\u001b[38;5;241m.\u001b[39mfactorial(num)\n\u001b[1;32m      6\u001b[0m digit_sum\u001b[38;5;241m=\u001b[39m\u001b[38;5;241m0\u001b[39m\n\u001b[0;32m----> 7\u001b[0m \u001b[38;5;28;01mfor\u001b[39;00m digit \u001b[38;5;129;01min\u001b[39;00m \u001b[38;5;28;43mstr\u001b[39;49m\u001b[43m(\u001b[49m\u001b[43mfactorial\u001b[49m\u001b[43m)\u001b[49m:\n\u001b[1;32m      8\u001b[0m     digit_sum\u001b[38;5;241m+\u001b[39m\u001b[38;5;241m=\u001b[39m\u001b[38;5;28mint\u001b[39m(digit)\n\u001b[1;32m      9\u001b[0m factorial_sums\u001b[38;5;241m.\u001b[39mappend(digit_sum)\n",
      "\u001b[0;31mTypeError\u001b[0m: 'str' object is not callable"
     ]
    }
   ],
   "source": [
    "#digit factorial sum\n",
    "import math\n",
    "factorial_sum=[]\n",
    "for num in range(1,6):\n",
    "    factorial=math.factorial(num)\n",
    "    digit_sum=0\n",
    "    for digit in str(factorial):\n",
    "        digit_sum+=int(digit)\n",
    "    factorial_sums.append(digit_sum)\n",
    "print(factorial_sums)"
   ]
  },
  {
   "cell_type": "code",
   "execution_count": 76,
   "id": "cc2db5a4-38b6-4708-ac1c-389fbf32d1fa",
   "metadata": {},
   "outputs": [
    {
     "name": "stdin",
     "output_type": "stream",
     "text": [
      "enter a sentence iam sony\n"
     ]
    },
    {
     "name": "stdout",
     "output_type": "stream",
     "text": [
      "no num is found in the sentence\n"
     ]
    }
   ],
   "source": [
    "#longest word\n",
    "sentence=input(\"enter a sentence\")\n",
    "num=[]\n",
    "for word in sentence.split():\n",
    "    if word.isdigit():\n",
    "        num.append(int(word))\n",
    "if num:\n",
    "    largest_num=max(num)\n",
    "    print(\"the largest num in a sentence is:\",largest_num)\n",
    "else:\n",
    "    print(\"no num is found in the sentence\")"
   ]
  },
  {
   "cell_type": "code",
   "execution_count": 77,
   "id": "071a9a5b-19d5-4bf0-a39e-2caa1971dbed",
   "metadata": {},
   "outputs": [],
   "source": [
    "#string to invlude only those with more than three vowels\n",
    "def count_vowels(word):\n",
    "    voweks=\"aeiou\"\n",
    "    count=0\n",
    "    for char in word.lower():\n",
    "        if char in vowels:\n",
    "            count+=1\n",
    "    return count\n",
    "def filter_string(string):\n",
    "    filtered_string=[]\n",
    "    for i  in string:\n",
    "        if count_vowels(string)>3:\n",
    "            filtered_string.append(string)\n",
    "    return filtered_string\n"
   ]
  },
  {
   "cell_type": "code",
   "execution_count": 77,
   "id": "3bd3ac5e-69aa-4373-9d0b-bc4e7d358f1f",
   "metadata": {},
   "outputs": [],
   "source": [
    "#string to invlude only those with more than three vowels\n",
    "def count_vowels(word):\n",
    "    voweks=\"aeiou\"\n",
    "    count=0\n",
    "    for char in word.lower():\n",
    "        if char in vowels:\n",
    "            count+=1\n",
    "    return count\n",
    "def filter_string(string):\n",
    "    filtered_string=[]\n",
    "    for i  in string:\n",
    "        if count_vowels(string)>3:\n",
    "            filtered_string.append(string)\n",
    "    return filtered_string\n"
   ]
  },
  {
   "cell_type": "code",
   "execution_count": 77,
   "id": "79c8e9a2-598b-4ca9-a814-8db425b16b8a",
   "metadata": {},
   "outputs": [],
   "source": [
    "#string to invlude only those with more than three vowels\n",
    "def count_vowels(word):\n",
    "    voweks=\"aeiou\"\n",
    "    count=0\n",
    "    for char in word.lower():\n",
    "        if char in vowels:\n",
    "            count+=1\n",
    "    return count\n",
    "def filter_string(string):\n",
    "    filtered_string=[]\n",
    "    for i  in string:\n",
    "        if count_vowels(string)>3:\n",
    "            filtered_string.append(string)\n",
    "    return filtered_string\n"
   ]
  },
  {
   "cell_type": "code",
   "execution_count": 78,
   "id": "1a2adebd-0207-4051-a23b-da27a8d2be21",
   "metadata": {},
   "outputs": [
    {
     "data": {
      "text/plain": [
       "1"
      ]
     },
     "execution_count": 78,
     "metadata": {},
     "output_type": "execute_result"
    }
   ],
   "source": [
    "count_vowels(\"sony\")"
   ]
  },
  {
   "cell_type": "code",
   "execution_count": 79,
   "id": "e07835b2-7c0a-4e6d-94c9-2496074f9c29",
   "metadata": {},
   "outputs": [
    {
     "ename": "TypeError",
     "evalue": "'str' object is not callable",
     "output_type": "error",
     "traceback": [
      "\u001b[0;31m---------------------------------------------------------------------------\u001b[0m",
      "\u001b[0;31mTypeError\u001b[0m                                 Traceback (most recent call last)",
      "Cell \u001b[0;32mIn[79], line 4\u001b[0m\n\u001b[1;32m      2\u001b[0m digit_sums\u001b[38;5;241m=\u001b[39m[]\n\u001b[1;32m      3\u001b[0m \u001b[38;5;28;01mfor\u001b[39;00m number \u001b[38;5;129;01min\u001b[39;00m \u001b[38;5;28mrange\u001b[39m(\u001b[38;5;241m1\u001b[39m,\u001b[38;5;241m1001\u001b[39m):\n\u001b[0;32m----> 4\u001b[0m     digit_sum\u001b[38;5;241m=\u001b[39m\u001b[38;5;28msum\u001b[39m(\u001b[38;5;28mint\u001b[39m(digit)\u001b[38;5;28;01mfor\u001b[39;00m digit \u001b[38;5;129;01min\u001b[39;00m \u001b[38;5;28;43mstr\u001b[39;49m\u001b[43m(\u001b[49m\u001b[43mnumber\u001b[49m\u001b[43m)\u001b[49m)\n\u001b[1;32m      5\u001b[0m     digit_sums\u001b[38;5;241m.\u001b[39mappend(digit_sum)\n",
      "\u001b[0;31mTypeError\u001b[0m: 'str' object is not callable"
     ]
    }
   ],
   "source": [
    "\n",
    "#to calculate the digits number sum\n",
    "digit_sums=[]\n",
    "for number in range(1,1001):\n",
    "    digit_sum=sum(int(digit)for digit in str(number))\n",
    "    digit_sums.append(digit_sum)"
   ]
  },
  {
   "cell_type": "code",
   "execution_count": 79,
   "id": "5fe692fb-4f43-4bf7-853d-5fadcc237e4e",
   "metadata": {},
   "outputs": [
    {
     "ename": "TypeError",
     "evalue": "'str' object is not callable",
     "output_type": "error",
     "traceback": [
      "\u001b[0;31m---------------------------------------------------------------------------\u001b[0m",
      "\u001b[0;31mTypeError\u001b[0m                                 Traceback (most recent call last)",
      "Cell \u001b[0;32mIn[79], line 4\u001b[0m\n\u001b[1;32m      2\u001b[0m digit_sums\u001b[38;5;241m=\u001b[39m[]\n\u001b[1;32m      3\u001b[0m \u001b[38;5;28;01mfor\u001b[39;00m number \u001b[38;5;129;01min\u001b[39;00m \u001b[38;5;28mrange\u001b[39m(\u001b[38;5;241m1\u001b[39m,\u001b[38;5;241m1001\u001b[39m):\n\u001b[0;32m----> 4\u001b[0m     digit_sum\u001b[38;5;241m=\u001b[39m\u001b[38;5;28msum\u001b[39m(\u001b[38;5;28mint\u001b[39m(digit)\u001b[38;5;28;01mfor\u001b[39;00m digit \u001b[38;5;129;01min\u001b[39;00m \u001b[38;5;28;43mstr\u001b[39;49m\u001b[43m(\u001b[49m\u001b[43mnumber\u001b[49m\u001b[43m)\u001b[49m)\n\u001b[1;32m      5\u001b[0m     digit_sums\u001b[38;5;241m.\u001b[39mappend(digit_sum)\n",
      "\u001b[0;31mTypeError\u001b[0m: 'str' object is not callable"
     ]
    }
   ],
   "source": [
    "\n",
    "#to calculate the digits number sum\n",
    "digit_sums=[]\n",
    "for number in range(1,1001):\n",
    "    digit_sum=sum(int(digit)for digit in str(number))\n",
    "    digit_sums.append(digit_sum)"
   ]
  },
  {
   "cell_type": "code",
   "execution_count": 83,
   "id": "025ea36d-ab95-483f-81c5-57b1dec81a62",
   "metadata": {},
   "outputs": [
    {
     "ename": "TypeError",
     "evalue": "'str' object is not callable",
     "output_type": "error",
     "traceback": [
      "\u001b[0;31m---------------------------------------------------------------------------\u001b[0m",
      "\u001b[0;31mTypeError\u001b[0m                                 Traceback (most recent call last)",
      "Cell \u001b[0;32mIn[83], line 13\u001b[0m\n\u001b[1;32m     11\u001b[0m prime_palindrome\u001b[38;5;241m=\u001b[39m[]\n\u001b[1;32m     12\u001b[0m \u001b[38;5;28;01mfor\u001b[39;00m num \u001b[38;5;129;01min\u001b[39;00m \u001b[38;5;28mrange\u001b[39m(\u001b[38;5;241m1\u001b[39m,\u001b[38;5;241m1000\u001b[39m):\n\u001b[0;32m---> 13\u001b[0m     \u001b[38;5;28;01mif\u001b[39;00m is_prime(num) \u001b[38;5;129;01mand\u001b[39;00m \u001b[43mis_palindrome\u001b[49m\u001b[43m(\u001b[49m\u001b[43mnum\u001b[49m\u001b[43m)\u001b[49m:\n\u001b[1;32m     14\u001b[0m         prime_palindromes\u001b[38;5;241m.\u001b[39mappend(num)\n\u001b[1;32m     15\u001b[0m \u001b[38;5;28mprint\u001b[39m(prime_palindromes)\n",
      "Cell \u001b[0;32mIn[83], line 10\u001b[0m, in \u001b[0;36mis_palindrome\u001b[0;34m(num)\u001b[0m\n\u001b[1;32m      9\u001b[0m \u001b[38;5;28;01mdef\u001b[39;00m \u001b[38;5;21mis_palindrome\u001b[39m(num):\n\u001b[0;32m---> 10\u001b[0m     \u001b[38;5;28;01mreturn\u001b[39;00m \u001b[38;5;28;43mstr\u001b[39;49m\u001b[43m(\u001b[49m\u001b[43mnum\u001b[49m\u001b[43m)\u001b[49m\u001b[38;5;241m==\u001b[39m\u001b[38;5;28mstr\u001b[39m(num)[::\u001b[38;5;241m-\u001b[39m\u001b[38;5;241m1\u001b[39m]\n",
      "\u001b[0;31mTypeError\u001b[0m: 'str' object is not callable"
     ]
    }
   ],
   "source": [
    "#list of prime palindromic num\n",
    "def is_prime(num):\n",
    "    if num<2:\n",
    "        return False\n",
    "    for i in range(2,int(num**0.5)+1):\n",
    "        if num%i==0:\n",
    "            return False\n",
    "    return True\n",
    "def is_palindrome(num):\n",
    "    return str(num)==str(num)[::-1]\n",
    "prime_palindrome=[]\n",
    "for num in range(1,1000):\n",
    "    if is_prime(num) and is_palindrome(num):\n",
    "        prime_palindromes.append(num)\n",
    "print(prime_palindromes)"
   ]
  },
  {
   "cell_type": "code",
   "execution_count": null,
   "id": "e0e51dc2-5a53-48fb-8a7a-5fad09e31c6e",
   "metadata": {},
   "outputs": [],
   "source": []
  }
 ],
 "metadata": {
  "kernelspec": {
   "display_name": "Python 3 (ipykernel)",
   "language": "python",
   "name": "python3"
  },
  "language_info": {
   "codemirror_mode": {
    "name": "ipython",
    "version": 3
   },
   "file_extension": ".py",
   "mimetype": "text/x-python",
   "name": "python",
   "nbconvert_exporter": "python",
   "pygments_lexer": "ipython3",
   "version": "3.10.8"
  }
 },
 "nbformat": 4,
 "nbformat_minor": 5
}
